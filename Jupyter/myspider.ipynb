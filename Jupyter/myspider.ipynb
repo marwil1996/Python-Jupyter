{
 "cells": [
  {
   "cell_type": "code",
   "execution_count": 10,
   "id": "36ef9819-b64b-4b84-a0cd-5a69d2db850a",
   "metadata": {},
   "outputs": [],
   "source": [
    "import scrapy\n",
    "\n",
    "class MySpider(scrapy.Spider):\n",
    "    name = 'cl_cars'\n",
    "    start_urls = ['https://dallas.craigslist.org/d/automotive-services/search/aos']\n",
    "    \n",
    "    def parse(self,response):\n",
    "        for title in response.xpath(\"//li[@class='result-row']//a\"):\n",
    "            yield {\n",
    "                'title':title.xpath(\"a//text()\").extract.first()\n",
    "            }\n",
    "\n",
    "    "
   ]
  },
  {
   "cell_type": "markdown",
   "id": "4354f413-4181-4b2b-8f72-4aec0f31c9a6",
   "metadata": {},
   "source": [
    "seems like xpath helper doesn't work on search engine pages"
   ]
  },
  {
   "cell_type": "markdown",
   "id": "31329785-3444-474e-b881-7849a1787468",
   "metadata": {},
   "source": [
    "Downloaded xpath helper, opened it with CTRL+SHFT+X and in query entered\n",
    "//li[@class='result-row'] to start. Can narrow it down further. Instructed used\n",
    "//li[@class='result-row']//p//a//text() but //a//text() works for me. I had no p tags on webpage I'm using."
   ]
  },
  {
   "cell_type": "code",
   "execution_count": null,
   "id": "84124684-9db7-410a-b8b0-6c3b02c71dcc",
   "metadata": {},
   "outputs": [],
   "source": []
  }
 ],
 "metadata": {
  "kernelspec": {
   "display_name": "Python 3 (ipykernel)",
   "language": "python",
   "name": "python3"
  },
  "language_info": {
   "codemirror_mode": {
    "name": "ipython",
    "version": 3
   },
   "file_extension": ".py",
   "mimetype": "text/x-python",
   "name": "python",
   "nbconvert_exporter": "python",
   "pygments_lexer": "ipython3",
   "version": "3.9.5"
  }
 },
 "nbformat": 4,
 "nbformat_minor": 5
}
