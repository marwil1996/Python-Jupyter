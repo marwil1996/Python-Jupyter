{
 "cells": [
  {
   "cell_type": "code",
   "execution_count": 17,
   "id": "b592ae4e-fcbb-4f45-a298-1a452db79d87",
   "metadata": {},
   "outputs": [
    {
     "data": {
      "text/plain": [
       "0    0.711105\n",
       "1    0.663168\n",
       "2    0.476291\n",
       "3    0.475117\n",
       "4    0.786517\n",
       "Name: Column 01, dtype: float64"
      ]
     },
     "execution_count": 17,
     "metadata": {},
     "output_type": "execute_result"
    }
   ],
   "source": [
    "import numpy as np\n",
    "import pandas as pd\n",
    "\n",
    "ser = pd.Series(np.random.random(5), name = 'Column 01')\n",
    "ser"
   ]
  },
  {
   "cell_type": "code",
   "execution_count": 18,
   "id": "64b925fc-860b-4784-9e64-260b363a8ca4",
   "metadata": {},
   "outputs": [
    {
     "data": {
      "text/plain": [
       "0.47511735393989196"
      ]
     },
     "execution_count": 18,
     "metadata": {},
     "output_type": "execute_result"
    }
   ],
   "source": [
    "ser[3]"
   ]
  },
  {
   "cell_type": "code",
   "execution_count": 19,
   "id": "794a5103-a4a7-4c25-8ca0-964c86a1a287",
   "metadata": {},
   "outputs": [
    {
     "data": {
      "text/html": [
       "<div>\n",
       "<style scoped>\n",
       "    .dataframe tbody tr th:only-of-type {\n",
       "        vertical-align: middle;\n",
       "    }\n",
       "\n",
       "    .dataframe tbody tr th {\n",
       "        vertical-align: top;\n",
       "    }\n",
       "\n",
       "    .dataframe thead th {\n",
       "        text-align: right;\n",
       "    }\n",
       "</style>\n",
       "<table border=\"1\" class=\"dataframe\">\n",
       "  <thead>\n",
       "    <tr style=\"text-align: right;\">\n",
       "      <th></th>\n",
       "      <th>High</th>\n",
       "      <th>Low</th>\n",
       "      <th>Open</th>\n",
       "      <th>Close</th>\n",
       "      <th>Volume</th>\n",
       "      <th>Adj Close</th>\n",
       "    </tr>\n",
       "    <tr>\n",
       "      <th>Date</th>\n",
       "      <th></th>\n",
       "      <th></th>\n",
       "      <th></th>\n",
       "      <th></th>\n",
       "      <th></th>\n",
       "      <th></th>\n",
       "    </tr>\n",
       "  </thead>\n",
       "  <tbody>\n",
       "    <tr>\n",
       "      <th>1995-01-03</th>\n",
       "      <td>15.625000</td>\n",
       "      <td>15.437500</td>\n",
       "      <td>15.468750</td>\n",
       "      <td>15.593750</td>\n",
       "      <td>3318400.0</td>\n",
       "      <td>8.014161</td>\n",
       "    </tr>\n",
       "    <tr>\n",
       "      <th>1995-01-04</th>\n",
       "      <td>15.656250</td>\n",
       "      <td>15.312500</td>\n",
       "      <td>15.531250</td>\n",
       "      <td>15.468750</td>\n",
       "      <td>2218800.0</td>\n",
       "      <td>7.949919</td>\n",
       "    </tr>\n",
       "    <tr>\n",
       "      <th>1995-01-05</th>\n",
       "      <td>15.437500</td>\n",
       "      <td>15.218750</td>\n",
       "      <td>15.375000</td>\n",
       "      <td>15.250000</td>\n",
       "      <td>2319600.0</td>\n",
       "      <td>7.837494</td>\n",
       "    </tr>\n",
       "    <tr>\n",
       "      <th>1995-01-06</th>\n",
       "      <td>15.406250</td>\n",
       "      <td>15.156250</td>\n",
       "      <td>15.156250</td>\n",
       "      <td>15.281250</td>\n",
       "      <td>3438000.0</td>\n",
       "      <td>7.853556</td>\n",
       "    </tr>\n",
       "    <tr>\n",
       "      <th>1995-01-09</th>\n",
       "      <td>15.406250</td>\n",
       "      <td>15.187500</td>\n",
       "      <td>15.343750</td>\n",
       "      <td>15.218750</td>\n",
       "      <td>1795200.0</td>\n",
       "      <td>7.821431</td>\n",
       "    </tr>\n",
       "    <tr>\n",
       "      <th>...</th>\n",
       "      <td>...</td>\n",
       "      <td>...</td>\n",
       "      <td>...</td>\n",
       "      <td>...</td>\n",
       "      <td>...</td>\n",
       "      <td>...</td>\n",
       "    </tr>\n",
       "    <tr>\n",
       "      <th>2021-12-20</th>\n",
       "      <td>158.460007</td>\n",
       "      <td>156.570007</td>\n",
       "      <td>156.600006</td>\n",
       "      <td>157.860001</td>\n",
       "      <td>9202600.0</td>\n",
       "      <td>157.860001</td>\n",
       "    </tr>\n",
       "    <tr>\n",
       "      <th>2021-12-21</th>\n",
       "      <td>158.149994</td>\n",
       "      <td>156.789993</td>\n",
       "      <td>157.649994</td>\n",
       "      <td>157.759995</td>\n",
       "      <td>6946000.0</td>\n",
       "      <td>157.759995</td>\n",
       "    </tr>\n",
       "    <tr>\n",
       "      <th>2021-12-22</th>\n",
       "      <td>159.580002</td>\n",
       "      <td>157.270004</td>\n",
       "      <td>157.770004</td>\n",
       "      <td>159.320007</td>\n",
       "      <td>6626300.0</td>\n",
       "      <td>159.320007</td>\n",
       "    </tr>\n",
       "    <tr>\n",
       "      <th>2021-12-23</th>\n",
       "      <td>160.919998</td>\n",
       "      <td>159.440002</td>\n",
       "      <td>159.500000</td>\n",
       "      <td>160.100006</td>\n",
       "      <td>5640900.0</td>\n",
       "      <td>160.100006</td>\n",
       "    </tr>\n",
       "    <tr>\n",
       "      <th>2021-12-27</th>\n",
       "      <td>161.990005</td>\n",
       "      <td>160.610001</td>\n",
       "      <td>160.669998</td>\n",
       "      <td>161.970001</td>\n",
       "      <td>4354404.0</td>\n",
       "      <td>161.970001</td>\n",
       "    </tr>\n",
       "  </tbody>\n",
       "</table>\n",
       "<p>6795 rows × 6 columns</p>\n",
       "</div>"
      ],
      "text/plain": [
       "                  High         Low        Open       Close     Volume  \\\n",
       "Date                                                                    \n",
       "1995-01-03   15.625000   15.437500   15.468750   15.593750  3318400.0   \n",
       "1995-01-04   15.656250   15.312500   15.531250   15.468750  2218800.0   \n",
       "1995-01-05   15.437500   15.218750   15.375000   15.250000  2319600.0   \n",
       "1995-01-06   15.406250   15.156250   15.156250   15.281250  3438000.0   \n",
       "1995-01-09   15.406250   15.187500   15.343750   15.218750  1795200.0   \n",
       "...                ...         ...         ...         ...        ...   \n",
       "2021-12-20  158.460007  156.570007  156.600006  157.860001  9202600.0   \n",
       "2021-12-21  158.149994  156.789993  157.649994  157.759995  6946000.0   \n",
       "2021-12-22  159.580002  157.270004  157.770004  159.320007  6626300.0   \n",
       "2021-12-23  160.919998  159.440002  159.500000  160.100006  5640900.0   \n",
       "2021-12-27  161.990005  160.610001  160.669998  161.970001  4354404.0   \n",
       "\n",
       "             Adj Close  \n",
       "Date                    \n",
       "1995-01-03    8.014161  \n",
       "1995-01-04    7.949919  \n",
       "1995-01-05    7.837494  \n",
       "1995-01-06    7.853556  \n",
       "1995-01-09    7.821431  \n",
       "...                ...  \n",
       "2021-12-20  157.860001  \n",
       "2021-12-21  157.759995  \n",
       "2021-12-22  159.320007  \n",
       "2021-12-23  160.100006  \n",
       "2021-12-27  161.970001  \n",
       "\n",
       "[6795 rows x 6 columns]"
      ]
     },
     "execution_count": 19,
     "metadata": {},
     "output_type": "execute_result"
    }
   ],
   "source": [
    "from pandas_datareader import data as wb\n",
    "\n",
    "PG = wb.DataReader('PG', data_source='yahoo', start='1995-1-1')\n",
    "\n",
    "PG"
   ]
  },
  {
   "cell_type": "code",
   "execution_count": 23,
   "id": "c7373721-5259-4153-ab11-7f94211da14b",
   "metadata": {},
   "outputs": [
    {
     "data": {
      "text/html": [
       "<div>\n",
       "<style scoped>\n",
       "    .dataframe tbody tr th:only-of-type {\n",
       "        vertical-align: middle;\n",
       "    }\n",
       "\n",
       "    .dataframe tbody tr th {\n",
       "        vertical-align: top;\n",
       "    }\n",
       "\n",
       "    .dataframe thead th {\n",
       "        text-align: right;\n",
       "    }\n",
       "</style>\n",
       "<table border=\"1\" class=\"dataframe\">\n",
       "  <thead>\n",
       "    <tr style=\"text-align: right;\">\n",
       "      <th></th>\n",
       "      <th>High</th>\n",
       "      <th>Low</th>\n",
       "      <th>Open</th>\n",
       "      <th>Close</th>\n",
       "      <th>Volume</th>\n",
       "      <th>Adj Close</th>\n",
       "    </tr>\n",
       "    <tr>\n",
       "      <th>Date</th>\n",
       "      <th></th>\n",
       "      <th></th>\n",
       "      <th></th>\n",
       "      <th></th>\n",
       "      <th></th>\n",
       "      <th></th>\n",
       "    </tr>\n",
       "  </thead>\n",
       "  <tbody>\n",
       "    <tr>\n",
       "      <th>2021-12-20</th>\n",
       "      <td>158.460007</td>\n",
       "      <td>156.570007</td>\n",
       "      <td>156.600006</td>\n",
       "      <td>157.860001</td>\n",
       "      <td>9202600.0</td>\n",
       "      <td>157.860001</td>\n",
       "    </tr>\n",
       "    <tr>\n",
       "      <th>2021-12-21</th>\n",
       "      <td>158.149994</td>\n",
       "      <td>156.789993</td>\n",
       "      <td>157.649994</td>\n",
       "      <td>157.759995</td>\n",
       "      <td>6946000.0</td>\n",
       "      <td>157.759995</td>\n",
       "    </tr>\n",
       "    <tr>\n",
       "      <th>2021-12-22</th>\n",
       "      <td>159.580002</td>\n",
       "      <td>157.270004</td>\n",
       "      <td>157.770004</td>\n",
       "      <td>159.320007</td>\n",
       "      <td>6626300.0</td>\n",
       "      <td>159.320007</td>\n",
       "    </tr>\n",
       "    <tr>\n",
       "      <th>2021-12-23</th>\n",
       "      <td>160.919998</td>\n",
       "      <td>159.440002</td>\n",
       "      <td>159.500000</td>\n",
       "      <td>160.100006</td>\n",
       "      <td>5640900.0</td>\n",
       "      <td>160.100006</td>\n",
       "    </tr>\n",
       "    <tr>\n",
       "      <th>2021-12-27</th>\n",
       "      <td>161.990005</td>\n",
       "      <td>160.610001</td>\n",
       "      <td>160.669998</td>\n",
       "      <td>161.970001</td>\n",
       "      <td>4354404.0</td>\n",
       "      <td>161.970001</td>\n",
       "    </tr>\n",
       "  </tbody>\n",
       "</table>\n",
       "</div>"
      ],
      "text/plain": [
       "                  High         Low        Open       Close     Volume  \\\n",
       "Date                                                                    \n",
       "2021-12-20  158.460007  156.570007  156.600006  157.860001  9202600.0   \n",
       "2021-12-21  158.149994  156.789993  157.649994  157.759995  6946000.0   \n",
       "2021-12-22  159.580002  157.270004  157.770004  159.320007  6626300.0   \n",
       "2021-12-23  160.919998  159.440002  159.500000  160.100006  5640900.0   \n",
       "2021-12-27  161.990005  160.610001  160.669998  161.970001  4354404.0   \n",
       "\n",
       "             Adj Close  \n",
       "Date                    \n",
       "2021-12-20  157.860001  \n",
       "2021-12-21  157.759995  \n",
       "2021-12-22  159.320007  \n",
       "2021-12-23  160.100006  \n",
       "2021-12-27  161.970001  "
      ]
     },
     "execution_count": 23,
     "metadata": {},
     "output_type": "execute_result"
    }
   ],
   "source": [
    "PG.tail(5)"
   ]
  },
  {
   "cell_type": "code",
   "execution_count": 20,
   "id": "f6e6c98c-aa86-4eab-a537-73223e121ed7",
   "metadata": {},
   "outputs": [
    {
     "name": "stdout",
     "output_type": "stream",
     "text": [
      "<class 'pandas.core.frame.DataFrame'>\n",
      "DatetimeIndex: 6795 entries, 1995-01-03 to 2021-12-27\n",
      "Data columns (total 6 columns):\n",
      " #   Column     Non-Null Count  Dtype  \n",
      "---  ------     --------------  -----  \n",
      " 0   High       6795 non-null   float64\n",
      " 1   Low        6795 non-null   float64\n",
      " 2   Open       6795 non-null   float64\n",
      " 3   Close      6795 non-null   float64\n",
      " 4   Volume     6795 non-null   float64\n",
      " 5   Adj Close  6795 non-null   float64\n",
      "dtypes: float64(6)\n",
      "memory usage: 371.6 KB\n"
     ]
    }
   ],
   "source": [
    "PG.info()"
   ]
  },
  {
   "cell_type": "code",
   "execution_count": 3,
   "id": "3d12c3e3-2462-482f-9836-deca5f631a62",
   "metadata": {},
   "outputs": [],
   "source": [
    "import pandas as pd\n",
    "from pandas_datareader import data as wb\n",
    "\n",
    "tickers = ['PG', 'MSFT', 'T', 'F', 'GE']\n",
    "new_data = pd.DataFrame()\n",
    "for t in tickers:\n",
    "    new_data[t] = wb.DataReader(t, data_source='yahoo', start='1995-1-1')['Adj Close']"
   ]
  },
  {
   "cell_type": "code",
   "execution_count": 4,
   "id": "179e7fe6-fa4d-44a0-847f-a3abadb7e01e",
   "metadata": {},
   "outputs": [
    {
     "data": {
      "text/html": [
       "<div>\n",
       "<style scoped>\n",
       "    .dataframe tbody tr th:only-of-type {\n",
       "        vertical-align: middle;\n",
       "    }\n",
       "\n",
       "    .dataframe tbody tr th {\n",
       "        vertical-align: top;\n",
       "    }\n",
       "\n",
       "    .dataframe thead th {\n",
       "        text-align: right;\n",
       "    }\n",
       "</style>\n",
       "<table border=\"1\" class=\"dataframe\">\n",
       "  <thead>\n",
       "    <tr style=\"text-align: right;\">\n",
       "      <th></th>\n",
       "      <th>PG</th>\n",
       "      <th>MSFT</th>\n",
       "      <th>T</th>\n",
       "      <th>F</th>\n",
       "      <th>GE</th>\n",
       "    </tr>\n",
       "    <tr>\n",
       "      <th>Date</th>\n",
       "      <th></th>\n",
       "      <th></th>\n",
       "      <th></th>\n",
       "      <th></th>\n",
       "      <th></th>\n",
       "    </tr>\n",
       "  </thead>\n",
       "  <tbody>\n",
       "    <tr>\n",
       "      <th>2021-12-20</th>\n",
       "      <td>157.860001</td>\n",
       "      <td>319.910004</td>\n",
       "      <td>24.190001</td>\n",
       "      <td>19.420000</td>\n",
       "      <td>89.980003</td>\n",
       "    </tr>\n",
       "    <tr>\n",
       "      <th>2021-12-21</th>\n",
       "      <td>157.759995</td>\n",
       "      <td>327.290009</td>\n",
       "      <td>24.469999</td>\n",
       "      <td>19.610001</td>\n",
       "      <td>93.059998</td>\n",
       "    </tr>\n",
       "    <tr>\n",
       "      <th>2021-12-22</th>\n",
       "      <td>159.320007</td>\n",
       "      <td>333.200012</td>\n",
       "      <td>24.780001</td>\n",
       "      <td>20.139999</td>\n",
       "      <td>93.070000</td>\n",
       "    </tr>\n",
       "    <tr>\n",
       "      <th>2021-12-23</th>\n",
       "      <td>160.100006</td>\n",
       "      <td>334.690002</td>\n",
       "      <td>24.870001</td>\n",
       "      <td>20.250000</td>\n",
       "      <td>94.000000</td>\n",
       "    </tr>\n",
       "    <tr>\n",
       "      <th>2021-12-27</th>\n",
       "      <td>161.970001</td>\n",
       "      <td>342.450012</td>\n",
       "      <td>24.780001</td>\n",
       "      <td>20.799999</td>\n",
       "      <td>94.620003</td>\n",
       "    </tr>\n",
       "  </tbody>\n",
       "</table>\n",
       "</div>"
      ],
      "text/plain": [
       "                    PG        MSFT          T          F         GE\n",
       "Date                                                               \n",
       "2021-12-20  157.860001  319.910004  24.190001  19.420000  89.980003\n",
       "2021-12-21  157.759995  327.290009  24.469999  19.610001  93.059998\n",
       "2021-12-22  159.320007  333.200012  24.780001  20.139999  93.070000\n",
       "2021-12-23  160.100006  334.690002  24.870001  20.250000  94.000000\n",
       "2021-12-27  161.970001  342.450012  24.780001  20.799999  94.620003"
      ]
     },
     "execution_count": 4,
     "metadata": {},
     "output_type": "execute_result"
    }
   ],
   "source": [
    "new_data.tail(5)"
   ]
  },
  {
   "cell_type": "markdown",
   "id": "133e5637-3a5c-4793-aed0-0b1608644003",
   "metadata": {},
   "source": [
    "Returned the last 5 adjusted closes of 5 differeent companies"
   ]
  },
  {
   "cell_type": "code",
   "execution_count": 3,
   "id": "bac121ed-d5fa-4e41-be12-3143e9007b9c",
   "metadata": {},
   "outputs": [],
   "source": [
    "import quandl"
   ]
  },
  {
   "cell_type": "code",
   "execution_count": 4,
   "id": "de5e662d-4197-4b14-bf03-2cb5a45b4a5f",
   "metadata": {},
   "outputs": [
    {
     "data": {
      "text/html": [
       "<div>\n",
       "<style scoped>\n",
       "    .dataframe tbody tr th:only-of-type {\n",
       "        vertical-align: middle;\n",
       "    }\n",
       "\n",
       "    .dataframe tbody tr th {\n",
       "        vertical-align: top;\n",
       "    }\n",
       "\n",
       "    .dataframe thead th {\n",
       "        text-align: right;\n",
       "    }\n",
       "</style>\n",
       "<table border=\"1\" class=\"dataframe\">\n",
       "  <thead>\n",
       "    <tr style=\"text-align: right;\">\n",
       "      <th></th>\n",
       "      <th>Value</th>\n",
       "    </tr>\n",
       "    <tr>\n",
       "      <th>Date</th>\n",
       "      <th></th>\n",
       "    </tr>\n",
       "  </thead>\n",
       "  <tbody>\n",
       "    <tr>\n",
       "      <th>2020-07-01</th>\n",
       "      <td>21138.574</td>\n",
       "    </tr>\n",
       "    <tr>\n",
       "      <th>2020-10-01</th>\n",
       "      <td>21477.597</td>\n",
       "    </tr>\n",
       "    <tr>\n",
       "      <th>2021-01-01</th>\n",
       "      <td>22038.226</td>\n",
       "    </tr>\n",
       "    <tr>\n",
       "      <th>2021-04-01</th>\n",
       "      <td>22740.959</td>\n",
       "    </tr>\n",
       "    <tr>\n",
       "      <th>2021-07-01</th>\n",
       "      <td>23202.344</td>\n",
       "    </tr>\n",
       "  </tbody>\n",
       "</table>\n",
       "</div>"
      ],
      "text/plain": [
       "                Value\n",
       "Date                 \n",
       "2020-07-01  21138.574\n",
       "2020-10-01  21477.597\n",
       "2021-01-01  22038.226\n",
       "2021-04-01  22740.959\n",
       "2021-07-01  23202.344"
      ]
     },
     "execution_count": 4,
     "metadata": {},
     "output_type": "execute_result"
    }
   ],
   "source": [
    "mydata_01 = quandl.get('FRED/GDP')\n",
    "mydata_01.tail()"
   ]
  },
  {
   "cell_type": "code",
   "execution_count": 3,
   "id": "b76549ef-6b5f-4e71-b85b-33b1de3b898b",
   "metadata": {},
   "outputs": [
    {
     "data": {
      "text/html": [
       "<div>\n",
       "<style scoped>\n",
       "    .dataframe tbody tr th:only-of-type {\n",
       "        vertical-align: middle;\n",
       "    }\n",
       "\n",
       "    .dataframe tbody tr th {\n",
       "        vertical-align: top;\n",
       "    }\n",
       "\n",
       "    .dataframe thead th {\n",
       "        text-align: right;\n",
       "    }\n",
       "</style>\n",
       "<table border=\"1\" class=\"dataframe\">\n",
       "  <thead>\n",
       "    <tr style=\"text-align: right;\">\n",
       "      <th></th>\n",
       "      <th>Value</th>\n",
       "    </tr>\n",
       "    <tr>\n",
       "      <th>Date</th>\n",
       "      <th></th>\n",
       "    </tr>\n",
       "  </thead>\n",
       "  <tbody>\n",
       "    <tr>\n",
       "      <th>1947-01-01</th>\n",
       "      <td>243.164</td>\n",
       "    </tr>\n",
       "    <tr>\n",
       "      <th>1947-04-01</th>\n",
       "      <td>245.968</td>\n",
       "    </tr>\n",
       "    <tr>\n",
       "      <th>1947-07-01</th>\n",
       "      <td>249.585</td>\n",
       "    </tr>\n",
       "    <tr>\n",
       "      <th>1947-10-01</th>\n",
       "      <td>259.745</td>\n",
       "    </tr>\n",
       "    <tr>\n",
       "      <th>1948-01-01</th>\n",
       "      <td>265.742</td>\n",
       "    </tr>\n",
       "  </tbody>\n",
       "</table>\n",
       "</div>"
      ],
      "text/plain": [
       "              Value\n",
       "Date               \n",
       "1947-01-01  243.164\n",
       "1947-04-01  245.968\n",
       "1947-07-01  249.585\n",
       "1947-10-01  259.745\n",
       "1948-01-01  265.742"
      ]
     },
     "execution_count": 3,
     "metadata": {},
     "output_type": "execute_result"
    }
   ],
   "source": [
    "mydata_01.head()"
   ]
  },
  {
   "cell_type": "code",
   "execution_count": 8,
   "id": "a739734e-1970-47ab-a156-67f15ca4c32b",
   "metadata": {},
   "outputs": [],
   "source": [
    "import pandas as pd\n",
    "\n",
    "mydata_01.to_csv('C:/iPython/example.txt')\n",
    "mydata_01.to_csv('C:/iPython/example_02.csv')"
   ]
  },
  {
   "cell_type": "code",
   "execution_count": 5,
   "id": "834cac55-607e-4bb3-b328-df0d837e33b2",
   "metadata": {},
   "outputs": [],
   "source": [
    "mydata_01.to_excel('C:/iPython/example_2.xlsx')"
   ]
  },
  {
   "cell_type": "code",
   "execution_count": 8,
   "id": "a088946e-73ff-4d5d-8d98-668a7b9964ab",
   "metadata": {},
   "outputs": [
    {
     "data": {
      "text/html": [
       "<div>\n",
       "<style scoped>\n",
       "    .dataframe tbody tr th:only-of-type {\n",
       "        vertical-align: middle;\n",
       "    }\n",
       "\n",
       "    .dataframe tbody tr th {\n",
       "        vertical-align: top;\n",
       "    }\n",
       "\n",
       "    .dataframe thead th {\n",
       "        text-align: right;\n",
       "    }\n",
       "</style>\n",
       "<table border=\"1\" class=\"dataframe\">\n",
       "  <thead>\n",
       "    <tr style=\"text-align: right;\">\n",
       "      <th></th>\n",
       "      <th>Date</th>\n",
       "      <th>Value</th>\n",
       "    </tr>\n",
       "  </thead>\n",
       "  <tbody>\n",
       "    <tr>\n",
       "      <th>0</th>\n",
       "      <td>1947-01-01</td>\n",
       "      <td>243.164</td>\n",
       "    </tr>\n",
       "    <tr>\n",
       "      <th>1</th>\n",
       "      <td>1947-04-01</td>\n",
       "      <td>245.968</td>\n",
       "    </tr>\n",
       "    <tr>\n",
       "      <th>2</th>\n",
       "      <td>1947-07-01</td>\n",
       "      <td>249.585</td>\n",
       "    </tr>\n",
       "    <tr>\n",
       "      <th>3</th>\n",
       "      <td>1947-10-01</td>\n",
       "      <td>259.745</td>\n",
       "    </tr>\n",
       "    <tr>\n",
       "      <th>4</th>\n",
       "      <td>1948-01-01</td>\n",
       "      <td>265.742</td>\n",
       "    </tr>\n",
       "    <tr>\n",
       "      <th>...</th>\n",
       "      <td>...</td>\n",
       "      <td>...</td>\n",
       "    </tr>\n",
       "    <tr>\n",
       "      <th>294</th>\n",
       "      <td>2020-07-01</td>\n",
       "      <td>21138.574</td>\n",
       "    </tr>\n",
       "    <tr>\n",
       "      <th>295</th>\n",
       "      <td>2020-10-01</td>\n",
       "      <td>21477.597</td>\n",
       "    </tr>\n",
       "    <tr>\n",
       "      <th>296</th>\n",
       "      <td>2021-01-01</td>\n",
       "      <td>22038.226</td>\n",
       "    </tr>\n",
       "    <tr>\n",
       "      <th>297</th>\n",
       "      <td>2021-04-01</td>\n",
       "      <td>22740.959</td>\n",
       "    </tr>\n",
       "    <tr>\n",
       "      <th>298</th>\n",
       "      <td>2021-07-01</td>\n",
       "      <td>23202.344</td>\n",
       "    </tr>\n",
       "  </tbody>\n",
       "</table>\n",
       "<p>299 rows × 2 columns</p>\n",
       "</div>"
      ],
      "text/plain": [
       "          Date      Value\n",
       "0   1947-01-01    243.164\n",
       "1   1947-04-01    245.968\n",
       "2   1947-07-01    249.585\n",
       "3   1947-10-01    259.745\n",
       "4   1948-01-01    265.742\n",
       "..         ...        ...\n",
       "294 2020-07-01  21138.574\n",
       "295 2020-10-01  21477.597\n",
       "296 2021-01-01  22038.226\n",
       "297 2021-04-01  22740.959\n",
       "298 2021-07-01  23202.344\n",
       "\n",
       "[299 rows x 2 columns]"
      ]
     },
     "execution_count": 8,
     "metadata": {},
     "output_type": "execute_result"
    }
   ],
   "source": [
    "import pandas as pd\n",
    "\n",
    "mydata_01 = pd.read_excel('C:/iPython/example_2.xlsx')\n",
    "mydata_01"
   ]
  },
  {
   "cell_type": "code",
   "execution_count": 11,
   "id": "844f775a-7e45-406d-a453-ef0634625a9c",
   "metadata": {},
   "outputs": [
    {
     "data": {
      "text/html": [
       "<div>\n",
       "<style scoped>\n",
       "    .dataframe tbody tr th:only-of-type {\n",
       "        vertical-align: middle;\n",
       "    }\n",
       "\n",
       "    .dataframe tbody tr th {\n",
       "        vertical-align: top;\n",
       "    }\n",
       "\n",
       "    .dataframe thead th {\n",
       "        text-align: right;\n",
       "    }\n",
       "</style>\n",
       "<table border=\"1\" class=\"dataframe\">\n",
       "  <thead>\n",
       "    <tr style=\"text-align: right;\">\n",
       "      <th></th>\n",
       "      <th>High</th>\n",
       "      <th>Low</th>\n",
       "      <th>Open</th>\n",
       "      <th>Close</th>\n",
       "      <th>Volume</th>\n",
       "      <th>Adj Close</th>\n",
       "    </tr>\n",
       "    <tr>\n",
       "      <th>Date</th>\n",
       "      <th></th>\n",
       "      <th></th>\n",
       "      <th></th>\n",
       "      <th></th>\n",
       "      <th></th>\n",
       "      <th></th>\n",
       "    </tr>\n",
       "  </thead>\n",
       "  <tbody>\n",
       "    <tr>\n",
       "      <th>2021-01-04</th>\n",
       "      <td>114.099998</td>\n",
       "      <td>110.449997</td>\n",
       "      <td>111.470001</td>\n",
       "      <td>111.699997</td>\n",
       "      <td>11262100.0</td>\n",
       "      <td>109.947205</td>\n",
       "    </tr>\n",
       "    <tr>\n",
       "      <th>2021-01-05</th>\n",
       "      <td>114.949997</td>\n",
       "      <td>112.010002</td>\n",
       "      <td>112.410004</td>\n",
       "      <td>112.769997</td>\n",
       "      <td>10583600.0</td>\n",
       "      <td>111.000404</td>\n",
       "    </tr>\n",
       "    <tr>\n",
       "      <th>2021-01-06</th>\n",
       "      <td>116.389999</td>\n",
       "      <td>112.550003</td>\n",
       "      <td>113.849998</td>\n",
       "      <td>115.610001</td>\n",
       "      <td>10609300.0</td>\n",
       "      <td>113.795853</td>\n",
       "    </tr>\n",
       "    <tr>\n",
       "      <th>2021-01-07</th>\n",
       "      <td>122.940002</td>\n",
       "      <td>117.589996</td>\n",
       "      <td>119.339996</td>\n",
       "      <td>121.430000</td>\n",
       "      <td>13556100.0</td>\n",
       "      <td>119.524521</td>\n",
       "    </tr>\n",
       "    <tr>\n",
       "      <th>2021-01-08</th>\n",
       "      <td>126.290001</td>\n",
       "      <td>116.980003</td>\n",
       "      <td>125.910004</td>\n",
       "      <td>118.690002</td>\n",
       "      <td>18976800.0</td>\n",
       "      <td>116.827522</td>\n",
       "    </tr>\n",
       "    <tr>\n",
       "      <th>...</th>\n",
       "      <td>...</td>\n",
       "      <td>...</td>\n",
       "      <td>...</td>\n",
       "      <td>...</td>\n",
       "      <td>...</td>\n",
       "      <td>...</td>\n",
       "    </tr>\n",
       "    <tr>\n",
       "      <th>2021-12-20</th>\n",
       "      <td>116.620003</td>\n",
       "      <td>113.910004</td>\n",
       "      <td>115.919998</td>\n",
       "      <td>114.940002</td>\n",
       "      <td>6980800.0</td>\n",
       "      <td>114.940002</td>\n",
       "    </tr>\n",
       "    <tr>\n",
       "      <th>2021-12-21</th>\n",
       "      <td>117.500000</td>\n",
       "      <td>115.080002</td>\n",
       "      <td>116.070000</td>\n",
       "      <td>117.440002</td>\n",
       "      <td>6122900.0</td>\n",
       "      <td>117.440002</td>\n",
       "    </tr>\n",
       "    <tr>\n",
       "      <th>2021-12-22</th>\n",
       "      <td>121.440002</td>\n",
       "      <td>116.830002</td>\n",
       "      <td>116.919998</td>\n",
       "      <td>121.300003</td>\n",
       "      <td>9300100.0</td>\n",
       "      <td>121.300003</td>\n",
       "    </tr>\n",
       "    <tr>\n",
       "      <th>2021-12-23</th>\n",
       "      <td>121.790001</td>\n",
       "      <td>119.839996</td>\n",
       "      <td>120.959999</td>\n",
       "      <td>120.680000</td>\n",
       "      <td>6507200.0</td>\n",
       "      <td>120.680000</td>\n",
       "    </tr>\n",
       "    <tr>\n",
       "      <th>2021-12-27</th>\n",
       "      <td>123.260002</td>\n",
       "      <td>121.199997</td>\n",
       "      <td>121.220001</td>\n",
       "      <td>122.699997</td>\n",
       "      <td>6309900.0</td>\n",
       "      <td>122.699997</td>\n",
       "    </tr>\n",
       "  </tbody>\n",
       "</table>\n",
       "<p>248 rows × 6 columns</p>\n",
       "</div>"
      ],
      "text/plain": [
       "                  High         Low        Open       Close      Volume  \\\n",
       "Date                                                                     \n",
       "2021-01-04  114.099998  110.449997  111.470001  111.699997  11262100.0   \n",
       "2021-01-05  114.949997  112.010002  112.410004  112.769997  10583600.0   \n",
       "2021-01-06  116.389999  112.550003  113.849998  115.610001  10609300.0   \n",
       "2021-01-07  122.940002  117.589996  119.339996  121.430000  13556100.0   \n",
       "2021-01-08  126.290001  116.980003  125.910004  118.690002  18976800.0   \n",
       "...                ...         ...         ...         ...         ...   \n",
       "2021-12-20  116.620003  113.910004  115.919998  114.940002   6980800.0   \n",
       "2021-12-21  117.500000  115.080002  116.070000  117.440002   6122900.0   \n",
       "2021-12-22  121.440002  116.830002  116.919998  121.300003   9300100.0   \n",
       "2021-12-23  121.790001  119.839996  120.959999  120.680000   6507200.0   \n",
       "2021-12-27  123.260002  121.199997  121.220001  122.699997   6309900.0   \n",
       "\n",
       "             Adj Close  \n",
       "Date                    \n",
       "2021-01-04  109.947205  \n",
       "2021-01-05  111.000404  \n",
       "2021-01-06  113.795853  \n",
       "2021-01-07  119.524521  \n",
       "2021-01-08  116.827522  \n",
       "...                ...  \n",
       "2021-12-20  114.940002  \n",
       "2021-12-21  117.440002  \n",
       "2021-12-22  121.300003  \n",
       "2021-12-23  120.680000  \n",
       "2021-12-27  122.699997  \n",
       "\n",
       "[248 rows x 6 columns]"
      ]
     },
     "execution_count": 11,
     "metadata": {},
     "output_type": "execute_result"
    }
   ],
   "source": [
    "from pandas_datareader import data as wb\n",
    "\n",
    "TSM = wb.DataReader('TSM', data_source='yahoo', start='2021-1-1')\n",
    "TSM"
   ]
  },
  {
   "cell_type": "code",
   "execution_count": 15,
   "id": "c9bd6a06-9a86-4600-b6a9-a327d5d2e827",
   "metadata": {},
   "outputs": [],
   "source": [
    "\n",
    "\n",
    "TSM.to_csv('C:/iPython/tsm.csv')"
   ]
  },
  {
   "cell_type": "code",
   "execution_count": 16,
   "id": "83a757fd-1a1b-4d20-bd0b-f07e7a6866c8",
   "metadata": {},
   "outputs": [],
   "source": [
    "import numpy as np\n",
    "from pandas_datareader import data as wb\n",
    "import matplotlib.pyplot as plt"
   ]
  },
  {
   "cell_type": "code",
   "execution_count": 19,
   "id": "0922ab62-7c61-4419-ba3f-16022af1f138",
   "metadata": {},
   "outputs": [
    {
     "data": {
      "text/html": [
       "<div>\n",
       "<style scoped>\n",
       "    .dataframe tbody tr th:only-of-type {\n",
       "        vertical-align: middle;\n",
       "    }\n",
       "\n",
       "    .dataframe tbody tr th {\n",
       "        vertical-align: top;\n",
       "    }\n",
       "\n",
       "    .dataframe thead th {\n",
       "        text-align: right;\n",
       "    }\n",
       "</style>\n",
       "<table border=\"1\" class=\"dataframe\">\n",
       "  <thead>\n",
       "    <tr style=\"text-align: right;\">\n",
       "      <th></th>\n",
       "      <th>High</th>\n",
       "      <th>Low</th>\n",
       "      <th>Open</th>\n",
       "      <th>Close</th>\n",
       "      <th>Volume</th>\n",
       "      <th>Adj Close</th>\n",
       "    </tr>\n",
       "    <tr>\n",
       "      <th>Date</th>\n",
       "      <th></th>\n",
       "      <th></th>\n",
       "      <th></th>\n",
       "      <th></th>\n",
       "      <th></th>\n",
       "      <th></th>\n",
       "    </tr>\n",
       "  </thead>\n",
       "  <tbody>\n",
       "    <tr>\n",
       "      <th>1995-01-03</th>\n",
       "      <td>15.62500</td>\n",
       "      <td>15.43750</td>\n",
       "      <td>15.46875</td>\n",
       "      <td>15.59375</td>\n",
       "      <td>3318400.0</td>\n",
       "      <td>8.014153</td>\n",
       "    </tr>\n",
       "    <tr>\n",
       "      <th>1995-01-04</th>\n",
       "      <td>15.65625</td>\n",
       "      <td>15.31250</td>\n",
       "      <td>15.53125</td>\n",
       "      <td>15.46875</td>\n",
       "      <td>2218800.0</td>\n",
       "      <td>7.949915</td>\n",
       "    </tr>\n",
       "    <tr>\n",
       "      <th>1995-01-05</th>\n",
       "      <td>15.43750</td>\n",
       "      <td>15.21875</td>\n",
       "      <td>15.37500</td>\n",
       "      <td>15.25000</td>\n",
       "      <td>2319600.0</td>\n",
       "      <td>7.837494</td>\n",
       "    </tr>\n",
       "    <tr>\n",
       "      <th>1995-01-06</th>\n",
       "      <td>15.40625</td>\n",
       "      <td>15.15625</td>\n",
       "      <td>15.15625</td>\n",
       "      <td>15.28125</td>\n",
       "      <td>3438000.0</td>\n",
       "      <td>7.853554</td>\n",
       "    </tr>\n",
       "    <tr>\n",
       "      <th>1995-01-09</th>\n",
       "      <td>15.40625</td>\n",
       "      <td>15.18750</td>\n",
       "      <td>15.34375</td>\n",
       "      <td>15.21875</td>\n",
       "      <td>1795200.0</td>\n",
       "      <td>7.821432</td>\n",
       "    </tr>\n",
       "  </tbody>\n",
       "</table>\n",
       "</div>"
      ],
      "text/plain": [
       "                High       Low      Open     Close     Volume  Adj Close\n",
       "Date                                                                    \n",
       "1995-01-03  15.62500  15.43750  15.46875  15.59375  3318400.0   8.014153\n",
       "1995-01-04  15.65625  15.31250  15.53125  15.46875  2218800.0   7.949915\n",
       "1995-01-05  15.43750  15.21875  15.37500  15.25000  2319600.0   7.837494\n",
       "1995-01-06  15.40625  15.15625  15.15625  15.28125  3438000.0   7.853554\n",
       "1995-01-09  15.40625  15.18750  15.34375  15.21875  1795200.0   7.821432"
      ]
     },
     "execution_count": 19,
     "metadata": {},
     "output_type": "execute_result"
    }
   ],
   "source": [
    "PG = wb.DataReader('PG', data_source='yahoo', start='1995-1-1')\n",
    "PG.head()"
   ]
  },
  {
   "cell_type": "code",
   "execution_count": 20,
   "id": "05a53e29-fb9a-4507-917b-d7914498dbd8",
   "metadata": {},
   "outputs": [
    {
     "data": {
      "text/html": [
       "<div>\n",
       "<style scoped>\n",
       "    .dataframe tbody tr th:only-of-type {\n",
       "        vertical-align: middle;\n",
       "    }\n",
       "\n",
       "    .dataframe tbody tr th {\n",
       "        vertical-align: top;\n",
       "    }\n",
       "\n",
       "    .dataframe thead th {\n",
       "        text-align: right;\n",
       "    }\n",
       "</style>\n",
       "<table border=\"1\" class=\"dataframe\">\n",
       "  <thead>\n",
       "    <tr style=\"text-align: right;\">\n",
       "      <th></th>\n",
       "      <th>High</th>\n",
       "      <th>Low</th>\n",
       "      <th>Open</th>\n",
       "      <th>Close</th>\n",
       "      <th>Volume</th>\n",
       "      <th>Adj Close</th>\n",
       "    </tr>\n",
       "    <tr>\n",
       "      <th>Date</th>\n",
       "      <th></th>\n",
       "      <th></th>\n",
       "      <th></th>\n",
       "      <th></th>\n",
       "      <th></th>\n",
       "      <th></th>\n",
       "    </tr>\n",
       "  </thead>\n",
       "  <tbody>\n",
       "    <tr>\n",
       "      <th>2021-12-21</th>\n",
       "      <td>158.149994</td>\n",
       "      <td>156.789993</td>\n",
       "      <td>157.649994</td>\n",
       "      <td>157.759995</td>\n",
       "      <td>6946000.0</td>\n",
       "      <td>157.759995</td>\n",
       "    </tr>\n",
       "    <tr>\n",
       "      <th>2021-12-22</th>\n",
       "      <td>159.580002</td>\n",
       "      <td>157.270004</td>\n",
       "      <td>157.770004</td>\n",
       "      <td>159.320007</td>\n",
       "      <td>6626300.0</td>\n",
       "      <td>159.320007</td>\n",
       "    </tr>\n",
       "    <tr>\n",
       "      <th>2021-12-23</th>\n",
       "      <td>160.919998</td>\n",
       "      <td>159.440002</td>\n",
       "      <td>159.500000</td>\n",
       "      <td>160.100006</td>\n",
       "      <td>5640900.0</td>\n",
       "      <td>160.100006</td>\n",
       "    </tr>\n",
       "    <tr>\n",
       "      <th>2021-12-27</th>\n",
       "      <td>161.990005</td>\n",
       "      <td>160.610001</td>\n",
       "      <td>160.669998</td>\n",
       "      <td>161.970001</td>\n",
       "      <td>4548600.0</td>\n",
       "      <td>161.970001</td>\n",
       "    </tr>\n",
       "    <tr>\n",
       "      <th>2021-12-28</th>\n",
       "      <td>163.380005</td>\n",
       "      <td>161.940002</td>\n",
       "      <td>161.960007</td>\n",
       "      <td>162.839996</td>\n",
       "      <td>5281611.0</td>\n",
       "      <td>162.839996</td>\n",
       "    </tr>\n",
       "  </tbody>\n",
       "</table>\n",
       "</div>"
      ],
      "text/plain": [
       "                  High         Low        Open       Close     Volume  \\\n",
       "Date                                                                    \n",
       "2021-12-21  158.149994  156.789993  157.649994  157.759995  6946000.0   \n",
       "2021-12-22  159.580002  157.270004  157.770004  159.320007  6626300.0   \n",
       "2021-12-23  160.919998  159.440002  159.500000  160.100006  5640900.0   \n",
       "2021-12-27  161.990005  160.610001  160.669998  161.970001  4548600.0   \n",
       "2021-12-28  163.380005  161.940002  161.960007  162.839996  5281611.0   \n",
       "\n",
       "             Adj Close  \n",
       "Date                    \n",
       "2021-12-21  157.759995  \n",
       "2021-12-22  159.320007  \n",
       "2021-12-23  160.100006  \n",
       "2021-12-27  161.970001  \n",
       "2021-12-28  162.839996  "
      ]
     },
     "execution_count": 20,
     "metadata": {},
     "output_type": "execute_result"
    }
   ],
   "source": [
    "PG.tail()"
   ]
  },
  {
   "cell_type": "markdown",
   "id": "8d917189-c19e-42cf-ac60-6aca06281694",
   "metadata": {},
   "source": [
    "*************************************Calculatiing Simple Rate of Return*************************************"
   ]
  },
  {
   "cell_type": "code",
   "execution_count": 22,
   "id": "fbbdbfd2-b6d4-4c07-be16-de1a1385c1cc",
   "metadata": {},
   "outputs": [
    {
     "name": "stdout",
     "output_type": "stream",
     "text": [
      "Date\n",
      "1995-01-03         NaN\n",
      "1995-01-04   -0.008016\n",
      "1995-01-05   -0.014141\n",
      "1995-01-06    0.002049\n",
      "1995-01-09   -0.004090\n",
      "                ...   \n",
      "2021-12-21   -0.000634\n",
      "2021-12-22    0.009889\n",
      "2021-12-23    0.004896\n",
      "2021-12-27    0.011680\n",
      "2021-12-28    0.005371\n",
      "Name: simple_return, Length: 6796, dtype: float64\n"
     ]
    }
   ],
   "source": [
    "PG['simple_return'] = (PG['Adj Close']/PG['Adj Close'].shift(1)) - 1 #pandas.DataFrame.shift(# of lags) shifts index by #\n",
    "print(PG['simple_return'])"
   ]
  },
  {
   "cell_type": "code",
   "execution_count": 25,
   "id": "b1e3f9b2-9b9c-49be-b4d6-106eb366a243",
   "metadata": {},
   "outputs": [
    {
     "data": {
      "text/plain": [
       "Date\n",
       "2021-11-30   -0.029795\n",
       "2021-12-01    0.012588\n",
       "2021-12-02    0.005874\n",
       "2021-12-03    0.017792\n",
       "2021-12-06    0.015145\n",
       "2021-12-07   -0.002629\n",
       "2021-12-08    0.004481\n",
       "2021-12-09    0.005839\n",
       "2021-12-10    0.013958\n",
       "2021-12-13    0.014216\n",
       "2021-12-14    0.003679\n",
       "2021-12-15    0.003855\n",
       "2021-12-16    0.014163\n",
       "2021-12-17   -0.022655\n",
       "2021-12-20    0.002540\n",
       "2021-12-21   -0.000634\n",
       "2021-12-22    0.009889\n",
       "2021-12-23    0.004896\n",
       "2021-12-27    0.011680\n",
       "2021-12-28    0.005371\n",
       "Name: simple_return, dtype: float64"
      ]
     },
     "execution_count": 25,
     "metadata": {},
     "output_type": "execute_result"
    }
   ],
   "source": [
    "(PG['simple_return']).tail(20)"
   ]
  },
  {
   "cell_type": "code",
   "execution_count": 27,
   "id": "d18d35b9-369a-450b-82f1-c1595bb8acfe",
   "metadata": {},
   "outputs": [
    {
     "data": {
      "image/png": "[encoded data removed]",
      "text/plain": [
       "<Figure size 576x360 with 1 Axes>"
      ]
     },
     "metadata": {
      "needs_background": "light"
     },
     "output_type": "display_data"
    }
   ],
   "source": [
    "PG['simple_return'].plot(figsize=(8,5))\n",
    "plt.show()"
   ]
  },
  {
   "cell_type": "code",
   "execution_count": 29,
   "id": "2223ccf5-772f-4680-b5dc-25d7e08fd3e3",
   "metadata": {},
   "outputs": [
    {
     "data": {
      "text/plain": [
       "0.0005434649972980336"
      ]
     },
     "execution_count": 29,
     "metadata": {},
     "output_type": "execute_result"
    }
   ],
   "source": [
    "avg_returns_d = PG['simple_return'].mean()\n",
    "avg_returns_d\n",
    "#pandas.DataFrame.mean() -calculates avg daily rate of return"
   ]
  },
  {
   "cell_type": "code",
   "execution_count": 30,
   "id": "7262cb82-79ef-440c-a7cd-24a0dec3a8aa",
   "metadata": {},
   "outputs": [
    {
     "data": {
      "text/plain": [
       "0.1358662493245084"
      ]
     },
     "execution_count": 30,
     "metadata": {},
     "output_type": "execute_result"
    }
   ],
   "source": [
    "avg_returns_a = PG['simple_return'].mean() * 250\n",
    "avg_returns_a"
   ]
  },
  {
   "cell_type": "code",
   "execution_count": 43,
   "id": "10f1b414-5b2a-4900-939e-779f71e0fbbc",
   "metadata": {},
   "outputs": [
    {
     "name": "stdout",
     "output_type": "stream",
     "text": [
      "13.59 %\n"
     ]
    }
   ],
   "source": [
    "#Make it more presentable as a string multiplied by 100 with a % sign\n",
    "annual = avg_returns_a * 100\n",
    "round(annual, 5)\n",
    "round(annual, 2)\n",
    "print(str(round(annual,2)) + ' %')"
   ]
  },
  {
   "cell_type": "markdown",
   "id": "36e41fb6-eff2-4f86-b5bf-a52c442343f7",
   "metadata": {},
   "source": [
    "**********Logarithmic Returns**********"
   ]
  },
  {
   "cell_type": "code",
   "execution_count": 47,
   "id": "fff6da15-4a33-472d-82e8-6300d9147fbd",
   "metadata": {},
   "outputs": [
    {
     "name": "stdout",
     "output_type": "stream",
     "text": [
      "Date\n",
      "1995-01-03         NaN\n",
      "1995-01-04   -0.008048\n",
      "1995-01-05   -0.014242\n",
      "1995-01-06    0.002047\n",
      "1995-01-09   -0.004099\n",
      "                ...   \n",
      "2021-12-21   -0.000634\n",
      "2021-12-22    0.009840\n",
      "2021-12-23    0.004884\n",
      "2021-12-27    0.011612\n",
      "2021-12-28    0.005357\n",
      "Name: log_return, Length: 6796, dtype: float64\n"
     ]
    }
   ],
   "source": [
    "#Placing same number of stars on each side of a string will bolden it in markdown mode\n",
    "\n",
    "#NumPy enables vectorized computation. Vectorization is the ability to organize \n",
    "#several kinds of data processing tasks as array expressions\n",
    "\n",
    "PG.head()\n",
    "PG['log_return'] = np.log(PG['Adj Close']/PG['Adj Close'].shift(1))\n",
    "print(PG['log_return'])"
   ]
  },
  {
   "cell_type": "code",
   "execution_count": 48,
   "id": "6b3b494a-1248-402e-8cd9-bf82f17ef05e",
   "metadata": {},
   "outputs": [
    {
     "data": {
      "image/png": "[encoded data removed]",
      "text/plain": [
       "<Figure size 576x360 with 1 Axes>"
      ]
     },
     "metadata": {
      "needs_background": "light"
     },
     "output_type": "display_data"
    }
   ],
   "source": [
    "PG['log_return'].plot(figsize=(8, 5))\n",
    "plt.show()"
   ]
  },
  {
   "cell_type": "code",
   "execution_count": 49,
   "id": "1a0c793b-ef26-47e9-a5fe-5beefacfed90",
   "metadata": {},
   "outputs": [
    {
     "data": {
      "text/plain": [
       "0.00044320219831702715"
      ]
     },
     "execution_count": 49,
     "metadata": {},
     "output_type": "execute_result"
    }
   ],
   "source": [
    "log_return_d = PG['log_return'].mean()\n",
    "log_return_d"
   ]
  },
  {
   "cell_type": "code",
   "execution_count": 50,
   "id": "c8371976-0a89-4395-8fc8-76ff7ae9c84b",
   "metadata": {},
   "outputs": [
    {
     "data": {
      "text/plain": [
       "0.1108005495792568"
      ]
     },
     "execution_count": 50,
     "metadata": {},
     "output_type": "execute_result"
    }
   ],
   "source": [
    "log_return_a = PG['log_return'].mean()*250\n",
    "log_return_a"
   ]
  },
  {
   "cell_type": "code",
   "execution_count": 53,
   "id": "722224d4-49de-40c7-aa6c-a3d6fec3f3e5",
   "metadata": {},
   "outputs": [
    {
     "name": "stdout",
     "output_type": "stream",
     "text": [
      "11.08%\n"
     ]
    }
   ],
   "source": [
    "print(str(round(log_return_a,5)*100)+ '%')"
   ]
  },
  {
   "cell_type": "code",
   "execution_count": null,
   "id": "6282a153-a6c7-4472-839e-a062ee2545b1",
   "metadata": {},
   "outputs": [],
   "source": []
  }
 ],
 "metadata": {
  "kernelspec": {
   "display_name": "Python 3 (ipykernel)",
   "language": "python",
   "name": "python3"
  },
  "language_info": {
   "codemirror_mode": {
    "name": "ipython",
    "version": 3
   },
   "file_extension": ".py",
   "mimetype": "text/x-python",
   "name": "python",
   "nbconvert_exporter": "python",
   "pygments_lexer": "ipython3",
   "version": "3.9.5"
  }
 },
 "nbformat": 4,
 "nbformat_minor": 5
}
