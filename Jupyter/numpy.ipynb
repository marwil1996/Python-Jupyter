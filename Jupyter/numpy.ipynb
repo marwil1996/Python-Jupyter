{
 "cells": [
  {
   "cell_type": "code",
   "execution_count": 2,
   "id": "45d9b95d-9816-4208-b022-8500c386b900",
   "metadata": {},
   "outputs": [
    {
     "name": "stdout",
     "output_type": "stream",
     "text": [
      "Random number: 0.7156738209147789\n"
     ]
    }
   ],
   "source": [
    "import numpy as np\n",
    "\n",
    "x = np.random.random()\n",
    "print(\"Random number:\", x)"
   ]
  },
  {
   "cell_type": "code",
   "execution_count": 3,
   "id": "39cef93c-9131-449a-b504-0ec4a07b7de8",
   "metadata": {},
   "outputs": [
    {
     "name": "stdout",
     "output_type": "stream",
     "text": [
      "Number square root: 0.8459750710953479\n",
      "x^sqrt(x): 0.7535162503622329\n"
     ]
    }
   ],
   "source": [
    "x_square_root = np.sqrt(x)\n",
    "print(\"Number square root:\", x_square_root)\n",
    "print('x^sqrt(x):', np.power(x, x_square_root))"
   ]
  },
  {
   "cell_type": "code",
   "execution_count": 4,
   "id": "48590ca1-4f29-4f80-b330-58d00e6c5603",
   "metadata": {},
   "outputs": [
    {
     "name": "stdout",
     "output_type": "stream",
     "text": [
      "Random matrix: [0.14636284 0.4667285  0.38574854]\n"
     ]
    }
   ],
   "source": [
    "matrix = np.random.random(3)\n",
    "print('Random matrix:', matrix)"
   ]
  },
  {
   "cell_type": "code",
   "execution_count": 5,
   "id": "4abca1b7-ca54-4a57-81bb-1ec777d2bf8e",
   "metadata": {},
   "outputs": [
    {
     "name": "stdout",
     "output_type": "stream",
     "text": [
      "New matrix: [0.14636284 0.4667285  0.38574854 0.52145784 0.43394184]\n"
     ]
    }
   ],
   "source": [
    "matrix = np.append(matrix, np.random.random(2))\n",
    "print('New matrix:', matrix)"
   ]
  },
  {
   "cell_type": "code",
   "execution_count": 6,
   "id": "14e84cae-7ede-47b3-b85d-f9b261d2834e",
   "metadata": {},
   "outputs": [
    {
     "name": "stdout",
     "output_type": "stream",
     "text": [
      "Sine of matrix: [0.14584084 0.4499671  0.37625278 0.49814475 0.42045055]\n"
     ]
    }
   ],
   "source": [
    "print('Sine of matrix:', np.sin(matrix))"
   ]
  },
  {
   "cell_type": "code",
   "execution_count": 7,
   "id": "8692c6fb-a88e-4908-91c1-8df6f8bd2603",
   "metadata": {},
   "outputs": [
    {
     "name": "stdout",
     "output_type": "stream",
     "text": [
      "[0, 1, 5, 6, 80]\n",
      "M = [ 0  1  5  6 80]\n"
     ]
    }
   ],
   "source": [
    "import numpy as np\n",
    "\n",
    "mvalues = [0, 1, 5, 6, 80]\n",
    "print(mvalues)\n",
    "M = np.array(mvalues)\n",
    "print('M =', M)"
   ]
  },
  {
   "cell_type": "code",
   "execution_count": 8,
   "id": "a52e2683-b3c1-45e3-820b-333f113d9a46",
   "metadata": {},
   "outputs": [
    {
     "name": "stdout",
     "output_type": "stream",
     "text": [
      "[   0.       39.3701  196.8505  236.2206 3149.608 ]\n"
     ]
    }
   ],
   "source": [
    "print(M * 39.3701) #convesion to inches"
   ]
  },
  {
   "cell_type": "code",
   "execution_count": 9,
   "id": "239bb5ef-c1c3-4ebf-bc27-1179243f632f",
   "metadata": {},
   "outputs": [
    {
     "name": "stdout",
     "output_type": "stream",
     "text": [
      "[ 20.   23.6  27.2  30.8  34.4  38.   41.6  45.2  48.8  52.4  56.   59.6\n",
      "  63.2  66.8  70.4  74.   77.6  81.2  84.8  88.4  92.   95.6  99.2 102.8]\n",
      "x np.linspace= [20.    28.475 36.95  45.425 53.9   62.375 70.85  79.325 87.8   96.275]\n"
     ]
    }
   ],
   "source": [
    "x = np.arange(20, 104.75, 3.6)\n",
    "print(x)\n",
    "x = np.linspace(20, 104.75, 10, endpoint=False)\n",
    "print(\"x np.linspace=\", x)"
   ]
  },
  {
   "cell_type": "code",
   "execution_count": 10,
   "id": "aaea17a3-ab20-4f70-8928-c5b53772404d",
   "metadata": {},
   "outputs": [
    {
     "name": "stdout",
     "output_type": "stream",
     "text": [
      "Spacing between the items in array above: 9.416666666666666\n"
     ]
    }
   ],
   "source": [
    "_,spacing = np.linspace(20, 104.75, 10, retstep=True) #returns spacing, don't want array right now\n",
    "print('Spacing between the items in array above:', spacing)"
   ]
  },
  {
   "cell_type": "code",
   "execution_count": 12,
   "id": "17a26f41-bb86-4631-a109-d5b7d23bd425",
   "metadata": {},
   "outputs": [
    {
     "name": "stdout",
     "output_type": "stream",
     "text": [
      "x array: [1 2 3 4]\n",
      "The type of x: <class 'numpy.ndarray'>\n",
      "The dimension of x: 1\n"
     ]
    }
   ],
   "source": [
    "x = np.array([1, 2, 3, 4])\n",
    "print(\"x array:\", x)\n",
    "print('The type of x:', type(x))\n",
    "print('The dimension of x:', np.ndim(x))"
   ]
  },
  {
   "cell_type": "code",
   "execution_count": 13,
   "id": "c2bb195e-1871-4108-8d61-b8474429b619",
   "metadata": {},
   "outputs": [
    {
     "name": "stdout",
     "output_type": "stream",
     "text": [
      "3D array:\n",
      "[[[ 1  2]\n",
      "  [ 3  4]]\n",
      "\n",
      " [[ 5  6]\n",
      "  [ 7  8]]\n",
      "\n",
      " [[ 9 10]\n",
      "  [11 12]]]\n"
     ]
    }
   ],
   "source": [
    "x = np.array([ [[1, 2], [3, 4]],\n",
    "             [[5, 6], [7, 8]],\n",
    "             [[9, 10], [11, 12]] ]\n",
    ")\n",
    "print('3D array:')\n",
    "print(x)"
   ]
  },
  {
   "cell_type": "code",
   "execution_count": 14,
   "id": "bb3bb0ce-f14e-4654-87db-dd6a0805ab2d",
   "metadata": {},
   "outputs": [
    {
     "name": "stdout",
     "output_type": "stream",
     "text": [
      "number of dimensions: 3\n",
      "Shape of array: (3, 2, 2)\n"
     ]
    }
   ],
   "source": [
    "print('number of dimensions:', x.ndim) #number of dimensions\n",
    "print('Shape of array:', np.shape(x))"
   ]
  },
  {
   "cell_type": "code",
   "execution_count": 15,
   "id": "faea5295-8b47-408a-870d-279b343f4134",
   "metadata": {},
   "outputs": [
    {
     "name": "stdout",
     "output_type": "stream",
     "text": [
      "Sliced array: 7\n"
     ]
    }
   ],
   "source": [
    "print('Sliced array:', x[1][1][0])"
   ]
  },
  {
   "cell_type": "code",
   "execution_count": 16,
   "id": "8ca50d5f-bceb-4340-b806-926ac61f4980",
   "metadata": {},
   "outputs": [
    {
     "name": "stdout",
     "output_type": "stream",
     "text": [
      "x =\n",
      "[[ 0  1  2  3  4  5]\n",
      " [ 6  7  8  9 10 11]\n",
      " [12 13 14 15 16 17]\n",
      " [18 19 20 21 22 23]]\n"
     ]
    }
   ],
   "source": [
    "x = np.arange(24).reshape(4,6) #Creates 4x6 array of elements from 0-23\n",
    "print('x =')\n",
    "print(x)"
   ]
  },
  {
   "cell_type": "code",
   "execution_count": 17,
   "id": "af7f1ad6-d6fe-4be0-b6b3-ef6b60d52fa2",
   "metadata": {},
   "outputs": [
    {
     "name": "stdout",
     "output_type": "stream",
     "text": [
      "[[ 0  3]\n",
      " [12 15]]\n"
     ]
    }
   ],
   "source": [
    "print(x[::2, ::3]) #prints every 3rd item in every 2nd row"
   ]
  },
  {
   "cell_type": "code",
   "execution_count": 18,
   "id": "c16a293a-0d79-4a53-9feb-37f89b46b33c",
   "metadata": {},
   "outputs": [
    {
     "name": "stdout",
     "output_type": "stream",
     "text": [
      "z=\n",
      "[[0. 0. 0. 0. 0.]\n",
      " [0. 0. 0. 0. 0.]\n",
      " [0. 0. 0. 0. 0.]]\n",
      "i=\n",
      "[[1. 0. 0. 0.]\n",
      " [0. 1. 0. 0.]\n",
      " [0. 0. 1. 0.]\n",
      " [0. 0. 0. 1.]]\n"
     ]
    }
   ],
   "source": [
    "z = np.zeros((3,5))\n",
    "print('z=')\n",
    "print(z)\n",
    "\n",
    "i = np.identity(4)\n",
    "print('i=')\n",
    "print(i)"
   ]
  },
  {
   "cell_type": "code",
   "execution_count": 20,
   "id": "d699a1d9-450c-41ef-94ab-a4f20c015c8f",
   "metadata": {},
   "outputs": [
    {
     "name": "stdout",
     "output_type": "stream",
     "text": [
      "[[0 1 0 0 0 0 0 0]\n",
      " [0 0 1 0 0 0 0 0]\n",
      " [0 0 0 1 0 0 0 0]\n",
      " [0 0 0 0 1 0 0 0]\n",
      " [0 0 0 0 0 1 0 0]]\n"
     ]
    }
   ],
   "source": [
    "print(np.eye(5, 8, k=1, dtype=int))\n"
   ]
  },
  {
   "cell_type": "markdown",
   "id": "48f81e5f-4e38-4adb-8df2-8b3d44a896cd",
   "metadata": {},
   "source": [
    "#k defines position of diagonal. If k=0, \n",
    "#we get ones on [0][0], [1],[1] etc... with k=1 we get them on [0][1], [1],[2]...\n",
    "#So we get elements equal to 1 on [i][i+k] where i is row index, and all the other elements are set to 0"
   ]
  },
  {
   "cell_type": "code",
   "execution_count": 22,
   "id": "cc96a146-84b0-4970-a975-49c5c2a8c276",
   "metadata": {},
   "outputs": [
    {
     "name": "stdout",
     "output_type": "stream",
     "text": [
      "[[1 0 0 0 0 0 0 0]\n",
      " [0 1 0 0 0 0 0 0]\n",
      " [0 0 1 0 0 0 0 0]\n",
      " [0 0 0 1 0 0 0 0]\n",
      " [0 0 0 0 1 0 0 0]]\n"
     ]
    }
   ],
   "source": [
    "print(np.eye(5,8,k=0,dtype=int))"
   ]
  },
  {
   "cell_type": "code",
   "execution_count": 23,
   "id": "c9391b5f-bdbd-4188-9c22-590b64902415",
   "metadata": {},
   "outputs": [
    {
     "name": "stdout",
     "output_type": "stream",
     "text": [
      "[[0. 0.]\n",
      " [0. 0.]]\n"
     ]
    }
   ],
   "source": [
    "a = np.zeros((2,2))\n",
    "print(a)"
   ]
  },
  {
   "cell_type": "code",
   "execution_count": 25,
   "id": "128e2ea4-d771-40cd-9818-6dd83c595867",
   "metadata": {},
   "outputs": [
    {
     "name": "stdout",
     "output_type": "stream",
     "text": [
      "[[1. 1.]]\n"
     ]
    }
   ],
   "source": [
    "b = np.ones((1,2))\n",
    "print(b)"
   ]
  },
  {
   "cell_type": "code",
   "execution_count": 26,
   "id": "28fb43ca-0ee7-464e-876f-11d80851210e",
   "metadata": {},
   "outputs": [
    {
     "name": "stdout",
     "output_type": "stream",
     "text": [
      "[[7 7]\n",
      " [7 7]]\n"
     ]
    }
   ],
   "source": [
    "c = np.full((2,2), 7)\n",
    "print(c)"
   ]
  },
  {
   "cell_type": "markdown",
   "id": "2ddab4dd-cb6c-4ae0-a713-96fce91e0cfc",
   "metadata": {},
   "source": [
    "Can also use np.full((2,2), 7, np.double) or np.full((2,2),7,np.int)"
   ]
  },
  {
   "cell_type": "code",
   "execution_count": 27,
   "id": "72634453-29b8-41d0-bda3-e41a9439d909",
   "metadata": {},
   "outputs": [
    {
     "name": "stdout",
     "output_type": "stream",
     "text": [
      "[[1. 0.]\n",
      " [0. 1.]]\n"
     ]
    }
   ],
   "source": [
    "d = np.eye(2)\n",
    "print(d)"
   ]
  },
  {
   "cell_type": "code",
   "execution_count": 28,
   "id": "f66388af-af5b-4f6b-8f63-d1d1b92c5fc2",
   "metadata": {},
   "outputs": [
    {
     "name": "stdout",
     "output_type": "stream",
     "text": [
      "[[0.42112873 0.32130895]\n",
      " [0.95672347 0.99775208]]\n"
     ]
    }
   ],
   "source": [
    "e = np.random.random((2,2))\n",
    "print(e)"
   ]
  },
  {
   "cell_type": "code",
   "execution_count": 29,
   "id": "d0063ef6-999a-46df-b1f6-c30f439335d9",
   "metadata": {},
   "outputs": [
    {
     "name": "stdout",
     "output_type": "stream",
     "text": [
      "[[  1   2   3   4]\n",
      " [ 11  22  33  44]\n",
      " [111 222 333 444]]\n"
     ]
    }
   ],
   "source": [
    "f = np.array([[1,2,3,4], [11,22,33,44], [111,222,333,444]])\n",
    "print(f)"
   ]
  },
  {
   "cell_type": "markdown",
   "id": "5449d0da-85ea-41a4-ad4c-a540ab66f46a",
   "metadata": {},
   "source": [
    "Deviations"
   ]
  },
  {
   "cell_type": "code",
   "execution_count": 35,
   "id": "8e57fcd7-4f54-4b70-9665-a716493e7744",
   "metadata": {},
   "outputs": [
    {
     "name": "stdout",
     "output_type": "stream",
     "text": [
      "A matrix:\n",
      "[[1 2]\n",
      " [3 4]]\n"
     ]
    }
   ],
   "source": [
    "a = np.array([[1,2],[3,4]])\n",
    "print('A matrix:')\n",
    "print(a)"
   ]
  },
  {
   "cell_type": "code",
   "execution_count": 36,
   "id": "85208cb3-26a1-4b7e-9a83-4a332b61cd4c",
   "metadata": {},
   "outputs": [
    {
     "name": "stdout",
     "output_type": "stream",
     "text": [
      "Standard deviation= 1.118033988749895\n"
     ]
    }
   ],
   "source": [
    "print('Standard deviation=', np.std(a))"
   ]
  },
  {
   "cell_type": "code",
   "execution_count": 37,
   "id": "df54ad71-1916-4925-b389-27737c7c9557",
   "metadata": {},
   "outputs": [
    {
     "name": "stdout",
     "output_type": "stream",
     "text": [
      "Standard deviation of rows= [1. 1.]\n"
     ]
    }
   ],
   "source": [
    "print('Standard deviation of rows=', np.std(a, axis=0))"
   ]
  },
  {
   "cell_type": "code",
   "execution_count": 38,
   "id": "a2a75bb6-2f5b-49fb-b817-54e077d2540e",
   "metadata": {},
   "outputs": [
    {
     "name": "stdout",
     "output_type": "stream",
     "text": [
      "Standard deviation of columns= [0.5 0.5]\n"
     ]
    }
   ],
   "source": [
    "print(\"Standard deviation of columns=\", np.std(a, axis=1))"
   ]
  },
  {
   "cell_type": "markdown",
   "id": "6ec3869c-347b-4fa9-9795-22a90211ba00",
   "metadata": {},
   "source": [
    "Eigen values"
   ]
  },
  {
   "cell_type": "code",
   "execution_count": 39,
   "id": "474e02d9-1923-4a27-b3ef-11d2203b21d7",
   "metadata": {},
   "outputs": [
    {
     "name": "stdout",
     "output_type": "stream",
     "text": [
      "A matrix:\n",
      "[[1 0 0]\n",
      " [0 2 0]\n",
      " [0 0 3]]\n"
     ]
    }
   ],
   "source": [
    "from numpy import linalg\n",
    "\n",
    "a = np.diag((1,2,3))\n",
    "print('A matrix:')\n",
    "print(a)"
   ]
  },
  {
   "cell_type": "code",
   "execution_count": 40,
   "id": "b245a8a5-cb0a-48b1-98e3-940879cefc5b",
   "metadata": {},
   "outputs": [
    {
     "name": "stdout",
     "output_type": "stream",
     "text": [
      "Eigen values:\n",
      "[1. 2. 3.]\n"
     ]
    }
   ],
   "source": [
    "eigenvalues,_ = linalg.eig(a)\n",
    "print('Eigen values:')\n",
    "print(eigenvalues)"
   ]
  },
  {
   "cell_type": "code",
   "execution_count": 45,
   "id": "414f9825-4f00-4f08-980a-496e8d3d9cbd",
   "metadata": {},
   "outputs": [
    {
     "name": "stdout",
     "output_type": "stream",
     "text": [
      "B matrix:\n",
      "[[ 1 -1]\n",
      " [ 1  1]]\n"
     ]
    }
   ],
   "source": [
    "b = np.array([[1,-1],[1,1]])\n",
    "print('B matrix:')\n",
    "print(b)"
   ]
  },
  {
   "cell_type": "code",
   "execution_count": 46,
   "id": "c9cce22b-d135-4d9f-a9ff-ff4a93b42903",
   "metadata": {},
   "outputs": [
    {
     "name": "stdout",
     "output_type": "stream",
     "text": [
      "[1.+1.j 1.-1.j]\n"
     ]
    }
   ],
   "source": [
    "eigenvalues,_=linalg.eig(b)\n",
    "print(eigenvalues)"
   ]
  },
  {
   "cell_type": "markdown",
   "id": "b932fa36-09cc-4774-b8d3-10a9349e8ae4",
   "metadata": {},
   "source": [
    "Covariance"
   ]
  },
  {
   "cell_type": "code",
   "execution_count": 50,
   "id": "682b28ef-79b4-4b14-ba94-6814edbae658",
   "metadata": {},
   "outputs": [
    {
     "name": "stdout",
     "output_type": "stream",
     "text": [
      "A matrix:\n",
      "[[1 2]\n",
      " [3 4]]\n"
     ]
    }
   ],
   "source": [
    "a = np.array([[1,2],[3,4]])\n",
    "print('A matrix:')\n",
    "print(a)"
   ]
  },
  {
   "cell_type": "code",
   "execution_count": 51,
   "id": "62685e64-499c-49d9-91ed-b4c79a34ea60",
   "metadata": {},
   "outputs": [
    {
     "name": "stdout",
     "output_type": "stream",
     "text": [
      "Covariance=\n",
      "[[0.5 0.5]\n",
      " [0.5 0.5]]\n"
     ]
    }
   ],
   "source": [
    "print('Covariance=')\n",
    "print(np.cov(a))"
   ]
  },
  {
   "cell_type": "code",
   "execution_count": 52,
   "id": "e4bac51d-6369-4593-8011-a4b2fe916093",
   "metadata": {},
   "outputs": [],
   "source": [
    "def gauss(x, sigma):\n",
    "    return np.exp(-x**2/(2*sigma**2))/(sigma*np.sqrt(2*np.pi))"
   ]
  },
  {
   "cell_type": "code",
   "execution_count": 55,
   "id": "a0e9bb9a-790e-43ef-970d-4779b97c7e53",
   "metadata": {},
   "outputs": [
    {
     "name": "stdout",
     "output_type": "stream",
     "text": [
      "[1.48671951e-06 2.07440309e-04 8.42153448e-03 9.94771388e-02\n",
      " 3.41892294e-01 3.41892294e-01 9.94771388e-02 8.42153448e-03\n",
      " 2.07440309e-04 1.48671951e-06]\n",
      "[0.00876415 0.03012145 0.07603269 0.14095594 0.19192205 0.19192205\n",
      " 0.14095594 0.07603269 0.03012145 0.00876415]\n",
      "[array([1.48671951e-06, 2.07440309e-04, 8.42153448e-03, 9.94771388e-02,\n",
      "       3.41892294e-01, 3.41892294e-01, 9.94771388e-02, 8.42153448e-03,\n",
      "       2.07440309e-04, 1.48671951e-06]), array([0.00876415, 0.03012145, 0.07603269, 0.14095594, 0.19192205,\n",
      "       0.19192205, 0.14095594, 0.07603269, 0.03012145, 0.00876415])]\n",
      "Covariance of two different gauss functions:\n",
      "[[0.01919045 0.00888522]\n",
      " [0.00888522 0.00519187]]\n"
     ]
    }
   ],
   "source": [
    "G_matrix_1 = gauss(np.linspace(-5,5,10),1)\n",
    "print(G_matrix_1)\n",
    "G_matrix_2 = gauss(np.linspace(-5,5,10), 2)\n",
    "print(G_matrix_2)\n",
    "G_matrix = [[],[]]\n",
    "G_matrix[0] = G_matrix_1\n",
    "G_matrix[1] = G_matrix_2\n",
    "print(G_matrix)\n",
    "print('Covariance of two different gauss functions:')\n",
    "print(np.cov(G_matrix))"
   ]
  },
  {
   "cell_type": "markdown",
   "id": "8e3abd95-4806-4791-a6e3-2cdfec9db3b7",
   "metadata": {},
   "source": [
    "Project Determinants"
   ]
  },
  {
   "cell_type": "code",
   "execution_count": 56,
   "id": "a2faef3b-dd8f-40ba-881a-96f788849282",
   "metadata": {},
   "outputs": [
    {
     "name": "stdout",
     "output_type": "stream",
     "text": [
      "[[1 2]\n",
      " [3 4]]\n"
     ]
    }
   ],
   "source": [
    "a = np.array([[1,2],[3,4]])\n",
    "print(a)"
   ]
  },
  {
   "cell_type": "code",
   "execution_count": 57,
   "id": "32a536a4-6fa8-4ca9-8dd9-41e488af9536",
   "metadata": {},
   "outputs": [
    {
     "name": "stdout",
     "output_type": "stream",
     "text": [
      "-2.0000000000000004\n"
     ]
    }
   ],
   "source": [
    "print(np.linalg.det(a))"
   ]
  },
  {
   "cell_type": "code",
   "execution_count": 63,
   "id": "1daf4b12-a2ae-4f8f-af38-af8c238d53f1",
   "metadata": {},
   "outputs": [
    {
     "name": "stdout",
     "output_type": "stream",
     "text": [
      "[[[1 2]\n",
      "  [3 4]]\n",
      "\n",
      " [[1 2]\n",
      "  [2 1]]\n",
      "\n",
      " [[1 3]\n",
      "  [3 1]]]\n",
      "[-2. -3. -8.]\n",
      "[[2 7]\n",
      " [8 4]]\n",
      "-47.999999999999986\n",
      "det(A*C): 95.99999999999999\n",
      "det(A)*det(C): 95.99999999999999\n"
     ]
    }
   ],
   "source": [
    "b = np.array([[[1,2],[3,4]],  [[1,2],[2,1]],[[1,3],[3,1]]])\n",
    "print(b)\n",
    "print(np.linalg.det(b))\n",
    "c = np.array([[2,7],[8,4]])\n",
    "print(c)\n",
    "print(np.linalg.det(c))\n",
    "print('det(A*C):', np.linalg.det(np.dot(a,c)))\n",
    "print('det(A)*det(C):', np.linalg.det(a)*np.linalg.det(c))"
   ]
  },
  {
   "cell_type": "markdown",
   "id": "e6640ea9-ed52-4c52-90c5-0fe1178065ee",
   "metadata": {},
   "source": [
    "Instructor mentions a name for one of the determinant methods. Sounds like bennet causchi, but not sure at all how to spell it. He says one takes less computing time"
   ]
  },
  {
   "cell_type": "code",
   "execution_count": null,
   "id": "57ef3e1a-62af-4a26-b836-ff3d6bc4418f",
   "metadata": {},
   "outputs": [],
   "source": []
  }
 ],
 "metadata": {
  "kernelspec": {
   "display_name": "Conda",
   "language": "python",
   "name": "ex"
  },
  "language_info": {
   "codemirror_mode": {
    "name": "ipython",
    "version": 3
   },
   "file_extension": ".py",
   "mimetype": "text/x-python",
   "name": "python",
   "nbconvert_exporter": "python",
   "pygments_lexer": "ipython3",
   "version": "3.9.5"
  }
 },
 "nbformat": 4,
 "nbformat_minor": 5
}
