{
 "cells": [
  {
   "cell_type": "code",
   "execution_count": 18,
   "id": "c81ec486-de16-4099-8fb1-f0acc737c19f",
   "metadata": {},
   "outputs": [],
   "source": [
    "import pandas as pd\n",
    "import scipy as sp\n",
    "import numpy as np"
   ]
  },
  {
   "cell_type": "markdown",
   "id": "252ffc31-fe24-42f5-81a3-e12bcf065cec",
   "metadata": {},
   "source": [
    "Example of function within function"
   ]
  },
  {
   "cell_type": "code",
   "execution_count": 19,
   "id": "772d60bb-ff8c-4975-9fec-2deaf4fdcc66",
   "metadata": {},
   "outputs": [
    {
     "data": {
      "text/plain": [
       "(200, 250)"
      ]
     },
     "execution_count": 19,
     "metadata": {},
     "output_type": "execute_result"
    }
   ],
   "source": [
    "def wage(w_hours):\n",
    "    return w_hours * 25\n",
    "\n",
    "def with_bonus(w_hours):\n",
    "    return wage(w_hours) + 50\n",
    "\n",
    "wage(8), with_bonus(8)"
   ]
  },
  {
   "cell_type": "markdown",
   "id": "3c934a53-c164-4fcf-a284-f3a5ac683951",
   "metadata": {},
   "source": [
    "Functions with 3+ parameters"
   ]
  },
  {
   "cell_type": "code",
   "execution_count": 20,
   "id": "afa3e5d6-62ff-4692-ae21-85d9c1dbedca",
   "metadata": {},
   "outputs": [
    {
     "data": {
      "text/plain": [
       "4"
      ]
     },
     "execution_count": 20,
     "metadata": {},
     "output_type": "execute_result"
    }
   ],
   "source": [
    "def subtract_bc(a,b,c):\n",
    "    result = a - b*c\n",
    "    return result\n",
    "\n",
    "subtract_bc(20,8,2)"
   ]
  },
  {
   "cell_type": "markdown",
   "id": "787dd649-07eb-4ad5-b91d-2c234796c12d",
   "metadata": {},
   "source": [
    "You can list the parameters out of order if you assign values to them within function call"
   ]
  },
  {
   "cell_type": "code",
   "execution_count": 21,
   "id": "a652eaeb-3c19-4c7b-a025-b6072406d84a",
   "metadata": {},
   "outputs": [
    {
     "data": {
      "text/plain": [
       "-225"
      ]
     },
     "execution_count": 21,
     "metadata": {},
     "output_type": "execute_result"
    }
   ],
   "source": [
    "subtract_bc(c=40,a=15,b=6)"
   ]
  },
  {
   "cell_type": "markdown",
   "id": "1904c8c5-9310-4cb9-ba65-73942947077b",
   "metadata": {},
   "source": [
    "Notable Python functions"
   ]
  },
  {
   "cell_type": "code",
   "execution_count": 22,
   "id": "e7dfda0e-4e39-4fe3-949b-fc65e8254535",
   "metadata": {},
   "outputs": [
    {
     "data": {
      "text/plain": [
       "402"
      ]
     },
     "execution_count": 22,
     "metadata": {},
     "output_type": "execute_result"
    }
   ],
   "source": [
    "list = [53,74,24,6,245]\n",
    "sum(list)"
   ]
  },
  {
   "cell_type": "code",
   "execution_count": 23,
   "id": "5983bfa0-5269-45d2-b3bb-84a823a35b2c",
   "metadata": {},
   "outputs": [
    {
     "data": {
      "text/plain": [
       "7.486"
      ]
     },
     "execution_count": 23,
     "metadata": {},
     "output_type": "execute_result"
    }
   ],
   "source": [
    "round(7.48632564257, 3)"
   ]
  },
  {
   "cell_type": "code",
   "execution_count": 24,
   "id": "6387470d-3c85-4472-acb4-e5d9ed4502c5",
   "metadata": {},
   "outputs": [
    {
     "data": {
      "text/plain": [
       "32"
      ]
     },
     "execution_count": 24,
     "metadata": {},
     "output_type": "execute_result"
    }
   ],
   "source": [
    "pow(2,5) #2^5"
   ]
  },
  {
   "cell_type": "code",
   "execution_count": 25,
   "id": "155abfc1-edcb-4eab-b8ab-5364aaa79d6b",
   "metadata": {},
   "outputs": [
    {
     "data": {
      "text/plain": [
       "24"
      ]
     },
     "execution_count": 25,
     "metadata": {},
     "output_type": "execute_result"
    }
   ],
   "source": [
    "len('United States of America')"
   ]
  },
  {
   "cell_type": "code",
   "execution_count": 26,
   "id": "4ca71031-c34f-4a2a-a99b-de08263fb276",
   "metadata": {},
   "outputs": [
    {
     "data": {
      "text/plain": [
       "['red', 'blue', 'orange', 'green', 'yellow']"
      ]
     },
     "execution_count": 26,
     "metadata": {},
     "output_type": "execute_result"
    }
   ],
   "source": [
    "colors = ['red', 'blue', 'orange', 'green', 'yellow']\n",
    "colors"
   ]
  },
  {
   "cell_type": "code",
   "execution_count": 27,
   "id": "6eedc338-66c6-4e4e-8505-30031b957997",
   "metadata": {},
   "outputs": [],
   "source": [
    "colors.append('brown')"
   ]
  },
  {
   "cell_type": "code",
   "execution_count": 28,
   "id": "d33bc932-fd8a-4ba7-8020-c00fd6f44e13",
   "metadata": {},
   "outputs": [
    {
     "data": {
      "text/plain": [
       "['red', 'blue', 'orange', 'green', 'yellow', 'brown']"
      ]
     },
     "execution_count": 28,
     "metadata": {},
     "output_type": "execute_result"
    }
   ],
   "source": [
    "colors"
   ]
  },
  {
   "cell_type": "code",
   "execution_count": 29,
   "id": "b783a19c-957a-41fb-b8cb-9c4d2206c11d",
   "metadata": {},
   "outputs": [
    {
     "data": {
      "text/plain": [
       "['red', 'blue', 'orange', 'yellow', 'brown']"
      ]
     },
     "execution_count": 29,
     "metadata": {},
     "output_type": "execute_result"
    }
   ],
   "source": [
    "del colors[3]\n",
    "colors"
   ]
  },
  {
   "cell_type": "code",
   "execution_count": 32,
   "id": "1d33d981-46dc-4509-8018-8060de66e33b",
   "metadata": {},
   "outputs": [
    {
     "data": {
      "text/plain": [
       "['red',\n",
       " 'blue',\n",
       " 'orange',\n",
       " 'yellow',\n",
       " 'brown',\n",
       " 'green',\n",
       " 'black',\n",
       " 'white',\n",
       " 'pink',\n",
       " 'gray',\n",
       " 'purple']"
      ]
     },
     "execution_count": 32,
     "metadata": {},
     "output_type": "execute_result"
    }
   ],
   "source": [
    "colors.extend(['green', 'black', 'white', 'pink', 'gray', 'purple'])\n",
    "colors"
   ]
  },
  {
   "cell_type": "code",
   "execution_count": 33,
   "id": "7d3b0633-40be-410c-b3b4-eb225bd51b7e",
   "metadata": {},
   "outputs": [
    {
     "data": {
      "text/plain": [
       "['orange', 'yellow']"
      ]
     },
     "execution_count": 33,
     "metadata": {},
     "output_type": "execute_result"
    }
   ],
   "source": [
    "colors[2:4] #3rd and 4th elements of the list"
   ]
  },
  {
   "cell_type": "code",
   "execution_count": 34,
   "id": "db51ae0d-238e-4c7c-aa31-ee5873a7e2af",
   "metadata": {},
   "outputs": [
    {
     "data": {
      "text/plain": [
       "['red', 'blue', 'orange', 'yellow', 'brown']"
      ]
     },
     "execution_count": 34,
     "metadata": {},
     "output_type": "execute_result"
    }
   ],
   "source": [
    "colors[:5] #Returns elements 0-4"
   ]
  },
  {
   "cell_type": "code",
   "execution_count": 35,
   "id": "d3aa7142-f13b-42c9-9a66-0d09e088aa12",
   "metadata": {},
   "outputs": [
    {
     "data": {
      "text/plain": [
       "['pink', 'gray', 'purple']"
      ]
     },
     "execution_count": 35,
     "metadata": {},
     "output_type": "execute_result"
    }
   ],
   "source": [
    "colors[-3:] #last 3 elements"
   ]
  },
  {
   "cell_type": "code",
   "execution_count": 36,
   "id": "152dd91e-c011-4698-9b8b-6728505e85ff",
   "metadata": {},
   "outputs": [
    {
     "data": {
      "text/plain": [
       "[['red',\n",
       "  'blue',\n",
       "  'orange',\n",
       "  'yellow',\n",
       "  'brown',\n",
       "  'green',\n",
       "  'black',\n",
       "  'white',\n",
       "  'pink',\n",
       "  'gray',\n",
       "  'purple'],\n",
       " [6, 72, 245, 95, 2935]]"
      ]
     },
     "execution_count": 36,
     "metadata": {},
     "output_type": "execute_result"
    }
   ],
   "source": [
    "numbers = [6, 72,245,95,2935]\n",
    "list = [colors, numbers]\n",
    "list"
   ]
  },
  {
   "cell_type": "code",
   "execution_count": 37,
   "id": "c93fa0d9-c68e-471c-a34a-f4ba6a2bce2c",
   "metadata": {},
   "outputs": [
    {
     "data": {
      "text/plain": [
       "[['black',\n",
       "  'blue',\n",
       "  'brown',\n",
       "  'gray',\n",
       "  'green',\n",
       "  'orange',\n",
       "  'pink',\n",
       "  'purple',\n",
       "  'red',\n",
       "  'white',\n",
       "  'yellow'],\n",
       " [6, 72, 95, 245, 2935]]"
      ]
     },
     "execution_count": 37,
     "metadata": {},
     "output_type": "execute_result"
    }
   ],
   "source": [
    "colors.sort()\n",
    "numbers.sort()\n",
    "list"
   ]
  },
  {
   "cell_type": "code",
   "execution_count": 39,
   "id": "966e5192-b12b-43dd-bc5c-db617057744e",
   "metadata": {},
   "outputs": [
    {
     "name": "stdout",
     "output_type": "stream",
     "text": [
      "3460000\n",
      " PS5\n"
     ]
    }
   ],
   "source": [
    "(sales, console) = '3460000, PS5'.split(',')\n",
    "print(sales)\n",
    "print(console)"
   ]
  },
  {
   "cell_type": "code",
   "execution_count": 41,
   "id": "e429c9c4-8e5e-4c11-be71-e9aa1ce251ce",
   "metadata": {},
   "outputs": [
    {
     "name": "stdout",
     "output_type": "stream",
     "text": [
      "Area and Perimeter:\n"
     ]
    },
    {
     "data": {
      "text/plain": [
       "(49, 28)"
      ]
     },
     "execution_count": 41,
     "metadata": {},
     "output_type": "execute_result"
    }
   ],
   "source": [
    "def square_info(x):\n",
    "    a = x**2\n",
    "    p = 4 * x\n",
    "    print('Area and Perimeter:')\n",
    "    return a, p\n",
    "\n",
    "square_info(7)"
   ]
  },
  {
   "cell_type": "code",
   "execution_count": 44,
   "id": "7cf5f767-fd98-4e06-83ca-e4e2a0655d71",
   "metadata": {},
   "outputs": [
    {
     "data": {
      "text/plain": [
       "{'e1': 'water', 'e2': 'fire', 'e3': 'earth', 'e4': 'air'}"
      ]
     },
     "execution_count": 44,
     "metadata": {},
     "output_type": "execute_result"
    }
   ],
   "source": [
    "dict = {'e1' : 'water', 'e2' : 'fire', 'e3' : 'earth', 'e4' : 'air'}\n",
    "dict"
   ]
  },
  {
   "cell_type": "code",
   "execution_count": 45,
   "id": "140ab39d-3248-46aa-9e98-a3d42366eb46",
   "metadata": {},
   "outputs": [
    {
     "data": {
      "text/plain": [
       "'air'"
      ]
     },
     "execution_count": 45,
     "metadata": {},
     "output_type": "execute_result"
    }
   ],
   "source": [
    "dict['e4']"
   ]
  },
  {
   "cell_type": "code",
   "execution_count": 47,
   "id": "81f72f09-1def-4bba-be01-0bb70e400b6b",
   "metadata": {},
   "outputs": [
    {
     "data": {
      "text/plain": [
       "{'e1': 'water', 'e2': 'fire', 'e3': 'earth', 'e4': 'air', 'e5': 'lightning'}"
      ]
     },
     "execution_count": 47,
     "metadata": {},
     "output_type": "execute_result"
    }
   ],
   "source": [
    "dict['e5'] = 'lightning'\n",
    "dict"
   ]
  },
  {
   "cell_type": "code",
   "execution_count": 48,
   "id": "9b754752-de9e-4289-be79-a1e3baf337ab",
   "metadata": {},
   "outputs": [
    {
     "data": {
      "text/plain": [
       "{'PG': 'Kerr', 'SG': 'Jordan', 'SF': 'Pippen', 'PF': 'Rodman', 'C': 'Grant'}"
      ]
     },
     "execution_count": 48,
     "metadata": {},
     "output_type": "execute_result"
    }
   ],
   "source": [
    "bulls = {}\n",
    "\n",
    "bulls['PG'] = 'Kerr'\n",
    "bulls['SG'] = 'Jordan'\n",
    "bulls['SF'] = 'Pippen'\n",
    "bulls['PF'] = 'Rodman'\n",
    "bulls['C'] = 'Grant'\n",
    "\n",
    "bulls"
   ]
  },
  {
   "cell_type": "code",
   "execution_count": 50,
   "id": "69a204db-8c22-4593-9372-f2581723c685",
   "metadata": {},
   "outputs": [
    {
     "name": "stdout",
     "output_type": "stream",
     "text": [
      "None\n"
     ]
    }
   ],
   "source": [
    "print(bulls.get('coach')) #will get none"
   ]
  },
  {
   "cell_type": "code",
   "execution_count": 51,
   "id": "94622bfb-0332-4c31-852c-ae5e8bf55e76",
   "metadata": {},
   "outputs": [
    {
     "name": "stdout",
     "output_type": "stream",
     "text": [
      "1\n",
      "2\n",
      "3\n",
      "4\n",
      "5\n",
      "6\n"
     ]
    }
   ],
   "source": [
    "num = [1,2,3,4,5,6]\n",
    "for n in num:\n",
    "    print(n)"
   ]
  },
  {
   "cell_type": "code",
   "execution_count": 54,
   "id": "fb1b6a0f-b928-45ad-988e-fbf74d92f232",
   "metadata": {},
   "outputs": [
    {
     "name": "stdout",
     "output_type": "stream",
     "text": [
      "0\n",
      "5\n",
      "10\n",
      "15\n",
      "20\n"
     ]
    }
   ],
   "source": [
    "x = 0\n",
    "while x <= 20:\n",
    "    print (x)\n",
    "    x += 5\n",
    "    "
   ]
  },
  {
   "cell_type": "markdown",
   "id": "a271db82-1b96-40ae-9c7d-544642bcb152",
   "metadata": {},
   "source": [
    "range(start, stop, step)\n",
    "\n",
    "start = first number in list\n",
    "stop = last value + 1\n",
    "step = distance between values"
   ]
  },
  {
   "cell_type": "markdown",
   "id": "5e62f742-1203-4c35-b546-c764ff217fb2",
   "metadata": {},
   "source": [
    "Not getting same range outputs in video"
   ]
  },
  {
   "cell_type": "code",
   "execution_count": 61,
   "id": "55d07e63-965d-45b8-a345-966ed4288879",
   "metadata": {},
   "outputs": [
    {
     "data": {
      "text/plain": [
       "range(0, 20)"
      ]
     },
     "execution_count": 61,
     "metadata": {},
     "output_type": "execute_result"
    }
   ],
   "source": [
    "range(0,20)"
   ]
  },
  {
   "cell_type": "code",
   "execution_count": 62,
   "id": "c9cc1777-5e34-48a3-b99c-47e108be7773",
   "metadata": {},
   "outputs": [
    {
     "name": "stdout",
     "output_type": "stream",
     "text": [
      "0\n",
      "3\n",
      "6\n",
      "9\n",
      "12\n"
     ]
    }
   ],
   "source": [
    "for n in range(5):\n",
    "    print(3*n)"
   ]
  },
  {
   "cell_type": "code",
   "execution_count": 63,
   "id": "3f56db82-c2aa-43ca-88ff-8bd282c37b61",
   "metadata": {},
   "outputs": [
    {
     "name": "stdout",
     "output_type": "stream",
     "text": [
      "0\n",
      "odd\n",
      "2\n",
      "odd\n",
      "4\n",
      "odd\n",
      "6\n",
      "odd\n",
      "8\n",
      "odd\n",
      "10\n",
      "odd\n",
      "12\n",
      "odd\n",
      "14\n",
      "odd\n",
      "16\n",
      "odd\n",
      "18\n",
      "odd\n"
     ]
    }
   ],
   "source": [
    "for x in range(20):\n",
    "    if x%2 == 0:\n",
    "        print(x)\n",
    "    else:\n",
    "        print('odd')\n",
    "        "
   ]
  },
  {
   "cell_type": "code",
   "execution_count": 65,
   "id": "2d6d0461-f7e2-4ef5-b4a3-f65b374f5880",
   "metadata": {},
   "outputs": [
    {
     "name": "stdout",
     "output_type": "stream",
     "text": [
      "1\n",
      "2\n",
      "3\n",
      "4\n",
      "5\n"
     ]
    }
   ],
   "source": [
    "x = [1,2,3,4,5]\n",
    "for item in range(len(x)):\n",
    "    print(x[item])"
   ]
  },
  {
   "cell_type": "markdown",
   "id": "9bf89bf5-03ea-4052-b639-c92811748102",
   "metadata": {},
   "source": [
    "Count # of items <20"
   ]
  },
  {
   "cell_type": "code",
   "execution_count": 66,
   "id": "5115378d-5d8a-49a8-a0b4-972c149aea50",
   "metadata": {},
   "outputs": [
    {
     "data": {
      "text/plain": [
       "4"
      ]
     },
     "execution_count": 66,
     "metadata": {},
     "output_type": "execute_result"
    }
   ],
   "source": [
    "def count(numbers):\n",
    "    total = 0 #rolling sum variable\n",
    "    for x in numbers:\n",
    "        if x < 20:\n",
    "            total += 1\n",
    "    return total\n",
    "\n",
    "list_1 = [53, 32, 7, 24, 15, 73, 8, 100, 4]\n",
    "count(list_1)"
   ]
  },
  {
   "cell_type": "code",
   "execution_count": 68,
   "id": "010ac681-91d3-45be-861a-38252f5c29c8",
   "metadata": {},
   "outputs": [
    {
     "name": "stdout",
     "output_type": "stream",
     "text": [
      "46\n"
     ]
    }
   ],
   "source": [
    "prices = {\n",
    "    'spaghetti': 4,\n",
    "    'lasagna': 5,\n",
    "    'burger': 3\n",
    "}\n",
    "\n",
    "quantity = {\n",
    "    'spaghetti': 3,\n",
    "    'lasagna': 2,\n",
    "    'burger': 8\n",
    "}\n",
    "\n",
    "money_spent = 0\n",
    "\n",
    "for i in prices:\n",
    "    money_spent = money_spent + (prices[i]*quantity[i])\n",
    "    \n",
    "print(money_spent)"
   ]
  },
  {
   "cell_type": "markdown",
   "id": "4a066612-d26a-4eef-9d57-0f4fcd1856cd",
   "metadata": {},
   "source": [
    "Doesn't matter if you loop through prices or quantity since they have same keys"
   ]
  },
  {
   "cell_type": "markdown",
   "id": "a61676f0-ff8b-4a39-b9aa-072cff3b872f",
   "metadata": {},
   "source": [
    "Multiple ways to import modules"
   ]
  },
  {
   "cell_type": "code",
   "execution_count": 2,
   "id": "d804aeab-e250-4f4d-9582-6bc043c44424",
   "metadata": {},
   "outputs": [
    {
     "data": {
      "text/plain": [
       "4.0"
      ]
     },
     "execution_count": 2,
     "metadata": {},
     "output_type": "execute_result"
    }
   ],
   "source": [
    "import math\n",
    "math.sqrt(16)"
   ]
  },
  {
   "cell_type": "code",
   "execution_count": 3,
   "id": "c0fa5616-2599-4cc8-ba47-1a10387ffbe1",
   "metadata": {},
   "outputs": [
    {
     "data": {
      "text/plain": [
       "5.0"
      ]
     },
     "execution_count": 3,
     "metadata": {},
     "output_type": "execute_result"
    }
   ],
   "source": [
    "from math import sqrt\n",
    "sqrt(25)"
   ]
  },
  {
   "cell_type": "code",
   "execution_count": 4,
   "id": "c22fb7fc-1491-4445-89c3-e5706e51434f",
   "metadata": {},
   "outputs": [
    {
     "data": {
      "text/plain": [
       "12.0"
      ]
     },
     "execution_count": 4,
     "metadata": {},
     "output_type": "execute_result"
    }
   ],
   "source": [
    "from math import sqrt as s\n",
    "s(144)"
   ]
  },
  {
   "cell_type": "code",
   "execution_count": 5,
   "id": "fc9b63f8-3a73-46f2-95cc-6bb495ccf11d",
   "metadata": {},
   "outputs": [
    {
     "data": {
      "text/plain": [
       "7.0"
      ]
     },
     "execution_count": 5,
     "metadata": {},
     "output_type": "execute_result"
    }
   ],
   "source": [
    "import math as m\n",
    "m.sqrt(49)"
   ]
  },
  {
   "cell_type": "code",
   "execution_count": 6,
   "id": "d68e465d-468e-4816-9688-5804e71cffdc",
   "metadata": {},
   "outputs": [
    {
     "data": {
      "text/plain": [
       "8.0"
      ]
     },
     "execution_count": 6,
     "metadata": {},
     "output_type": "execute_result"
    }
   ],
   "source": [
    "from math import * #import everything\n",
    "sqrt(64)"
   ]
  },
  {
   "cell_type": "code",
   "execution_count": 2,
   "id": "3646698f-e276-404d-b0b0-138926afd9dc",
   "metadata": {},
   "outputs": [],
   "source": [
    "import pandas_datareader"
   ]
  },
  {
   "cell_type": "code",
   "execution_count": 4,
   "id": "d70b5843-7a96-4cb2-afed-fa7917ddb779",
   "metadata": {},
   "outputs": [
    {
     "data": {
      "text/plain": [
       "array([[1, 2, 3, 4],\n",
       "       [5, 6, 7, 8]])"
      ]
     },
     "execution_count": 4,
     "metadata": {},
     "output_type": "execute_result"
    }
   ],
   "source": [
    "import numpy as np\n",
    "a = np.array([[1,2,3,4],[5,6,7,8]])\n",
    "a"
   ]
  },
  {
   "cell_type": "code",
   "execution_count": 5,
   "id": "d43b4059-93a3-45d6-b995-bc2740dfec27",
   "metadata": {},
   "outputs": [
    {
     "data": {
      "text/plain": [
       "(2, 4)"
      ]
     },
     "execution_count": 5,
     "metadata": {},
     "output_type": "execute_result"
    }
   ],
   "source": [
    "a.shape"
   ]
  },
  {
   "cell_type": "code",
   "execution_count": 6,
   "id": "7deffb1c-4e54-4b81-aa56-961c7d5c5b86",
   "metadata": {},
   "outputs": [
    {
     "data": {
      "text/plain": [
       "8"
      ]
     },
     "execution_count": 6,
     "metadata": {},
     "output_type": "execute_result"
    }
   ],
   "source": [
    "a[1,3]"
   ]
  },
  {
   "cell_type": "code",
   "execution_count": 9,
   "id": "24d9abc2-a792-4ece-86c1-6dea678479c4",
   "metadata": {},
   "outputs": [
    {
     "data": {
      "text/plain": [
       "0.975690651355884"
      ]
     },
     "execution_count": 9,
     "metadata": {},
     "output_type": "execute_result"
    }
   ],
   "source": [
    "import random\n",
    "prob = random.random()\n",
    "prob"
   ]
  },
  {
   "cell_type": "code",
   "execution_count": 10,
   "id": "41d93b38-e9cc-44a4-864e-f9e486534b6a",
   "metadata": {},
   "outputs": [
    {
     "data": {
      "text/plain": [
       "2"
      ]
     },
     "execution_count": 10,
     "metadata": {},
     "output_type": "execute_result"
    }
   ],
   "source": [
    "number = random.randint(1,6)\n",
    "number"
   ]
  },
  {
   "cell_type": "code",
   "execution_count": 14,
   "id": "59cd3a27-ad36-40df-a957-de6b28810a2f",
   "metadata": {},
   "outputs": [],
   "source": [
    "import numpy as np"
   ]
  },
  {
   "cell_type": "code",
   "execution_count": 16,
   "id": "05d9770e-f253-4b36-947f-171938c65172",
   "metadata": {},
   "outputs": [
    {
     "data": {
      "text/plain": [
       "array([[3, 3, 5, 4, 3, 5],\n",
       "       [4, 4, 4, 2, 4, 1],\n",
       "       [5, 2, 2, 5, 1, 3],\n",
       "       [2, 2, 3, 4, 3, 3]])"
      ]
     },
     "execution_count": 16,
     "metadata": {},
     "output_type": "execute_result"
    }
   ],
   "source": [
    "np.random.randint(1,6,(4,6))"
   ]
  },
  {
   "cell_type": "code",
   "execution_count": 17,
   "id": "6152d0de-7361-40dd-9e17-deb89d1b4400",
   "metadata": {},
   "outputs": [
    {
     "data": {
      "text/plain": [
       "0    0.711105\n",
       "1    0.663168\n",
       "2    0.476291\n",
       "3    0.475117\n",
       "4    0.786517\n",
       "Name: Column 01, dtype: float64"
      ]
     },
     "execution_count": 17,
     "metadata": {},
     "output_type": "execute_result"
    }
   ],
   "source": [
    "import numpy as np\n",
    "import pandas as pd\n",
    "\n",
    "ser = pd.Series(np.random.random(5), name = 'Column 01')\n",
    "ser"
   ]
  },
  {
   "cell_type": "code",
   "execution_count": 18,
   "id": "8221e40c-fb9b-4789-911d-efcff2b75e6c",
   "metadata": {},
   "outputs": [
    {
     "data": {
      "text/plain": [
       "0.47511735393989196"
      ]
     },
     "execution_count": 18,
     "metadata": {},
     "output_type": "execute_result"
    }
   ],
   "source": [
    "ser[3]"
   ]
  },
  {
   "cell_type": "code",
   "execution_count": 19,
   "id": "9f628562-5471-4941-a8d0-caaf982e1fe0",
   "metadata": {},
   "outputs": [
    {
     "data": {
      "text/html": [
       "<div>\n",
       "<style scoped>\n",
       "    .dataframe tbody tr th:only-of-type {\n",
       "        vertical-align: middle;\n",
       "    }\n",
       "\n",
       "    .dataframe tbody tr th {\n",
       "        vertical-align: top;\n",
       "    }\n",
       "\n",
       "    .dataframe thead th {\n",
       "        text-align: right;\n",
       "    }\n",
       "</style>\n",
       "<table border=\"1\" class=\"dataframe\">\n",
       "  <thead>\n",
       "    <tr style=\"text-align: right;\">\n",
       "      <th></th>\n",
       "      <th>High</th>\n",
       "      <th>Low</th>\n",
       "      <th>Open</th>\n",
       "      <th>Close</th>\n",
       "      <th>Volume</th>\n",
       "      <th>Adj Close</th>\n",
       "    </tr>\n",
       "    <tr>\n",
       "      <th>Date</th>\n",
       "      <th></th>\n",
       "      <th></th>\n",
       "      <th></th>\n",
       "      <th></th>\n",
       "      <th></th>\n",
       "      <th></th>\n",
       "    </tr>\n",
       "  </thead>\n",
       "  <tbody>\n",
       "    <tr>\n",
       "      <th>1995-01-03</th>\n",
       "      <td>15.625000</td>\n",
       "      <td>15.437500</td>\n",
       "      <td>15.468750</td>\n",
       "      <td>15.593750</td>\n",
       "      <td>3318400.0</td>\n",
       "      <td>8.014161</td>\n",
       "    </tr>\n",
       "    <tr>\n",
       "      <th>1995-01-04</th>\n",
       "      <td>15.656250</td>\n",
       "      <td>15.312500</td>\n",
       "      <td>15.531250</td>\n",
       "      <td>15.468750</td>\n",
       "      <td>2218800.0</td>\n",
       "      <td>7.949919</td>\n",
       "    </tr>\n",
       "    <tr>\n",
       "      <th>1995-01-05</th>\n",
       "      <td>15.437500</td>\n",
       "      <td>15.218750</td>\n",
       "      <td>15.375000</td>\n",
       "      <td>15.250000</td>\n",
       "      <td>2319600.0</td>\n",
       "      <td>7.837494</td>\n",
       "    </tr>\n",
       "    <tr>\n",
       "      <th>1995-01-06</th>\n",
       "      <td>15.406250</td>\n",
       "      <td>15.156250</td>\n",
       "      <td>15.156250</td>\n",
       "      <td>15.281250</td>\n",
       "      <td>3438000.0</td>\n",
       "      <td>7.853556</td>\n",
       "    </tr>\n",
       "    <tr>\n",
       "      <th>1995-01-09</th>\n",
       "      <td>15.406250</td>\n",
       "      <td>15.187500</td>\n",
       "      <td>15.343750</td>\n",
       "      <td>15.218750</td>\n",
       "      <td>1795200.0</td>\n",
       "      <td>7.821431</td>\n",
       "    </tr>\n",
       "    <tr>\n",
       "      <th>...</th>\n",
       "      <td>...</td>\n",
       "      <td>...</td>\n",
       "      <td>...</td>\n",
       "      <td>...</td>\n",
       "      <td>...</td>\n",
       "      <td>...</td>\n",
       "    </tr>\n",
       "    <tr>\n",
       "      <th>2021-12-20</th>\n",
       "      <td>158.460007</td>\n",
       "      <td>156.570007</td>\n",
       "      <td>156.600006</td>\n",
       "      <td>157.860001</td>\n",
       "      <td>9202600.0</td>\n",
       "      <td>157.860001</td>\n",
       "    </tr>\n",
       "    <tr>\n",
       "      <th>2021-12-21</th>\n",
       "      <td>158.149994</td>\n",
       "      <td>156.789993</td>\n",
       "      <td>157.649994</td>\n",
       "      <td>157.759995</td>\n",
       "      <td>6946000.0</td>\n",
       "      <td>157.759995</td>\n",
       "    </tr>\n",
       "    <tr>\n",
       "      <th>2021-12-22</th>\n",
       "      <td>159.580002</td>\n",
       "      <td>157.270004</td>\n",
       "      <td>157.770004</td>\n",
       "      <td>159.320007</td>\n",
       "      <td>6626300.0</td>\n",
       "      <td>159.320007</td>\n",
       "    </tr>\n",
       "    <tr>\n",
       "      <th>2021-12-23</th>\n",
       "      <td>160.919998</td>\n",
       "      <td>159.440002</td>\n",
       "      <td>159.500000</td>\n",
       "      <td>160.100006</td>\n",
       "      <td>5640900.0</td>\n",
       "      <td>160.100006</td>\n",
       "    </tr>\n",
       "    <tr>\n",
       "      <th>2021-12-27</th>\n",
       "      <td>161.990005</td>\n",
       "      <td>160.610001</td>\n",
       "      <td>160.669998</td>\n",
       "      <td>161.970001</td>\n",
       "      <td>4354404.0</td>\n",
       "      <td>161.970001</td>\n",
       "    </tr>\n",
       "  </tbody>\n",
       "</table>\n",
       "<p>6795 rows × 6 columns</p>\n",
       "</div>"
      ],
      "text/plain": [
       "                  High         Low        Open       Close     Volume  \\\n",
       "Date                                                                    \n",
       "1995-01-03   15.625000   15.437500   15.468750   15.593750  3318400.0   \n",
       "1995-01-04   15.656250   15.312500   15.531250   15.468750  2218800.0   \n",
       "1995-01-05   15.437500   15.218750   15.375000   15.250000  2319600.0   \n",
       "1995-01-06   15.406250   15.156250   15.156250   15.281250  3438000.0   \n",
       "1995-01-09   15.406250   15.187500   15.343750   15.218750  1795200.0   \n",
       "...                ...         ...         ...         ...        ...   \n",
       "2021-12-20  158.460007  156.570007  156.600006  157.860001  9202600.0   \n",
       "2021-12-21  158.149994  156.789993  157.649994  157.759995  6946000.0   \n",
       "2021-12-22  159.580002  157.270004  157.770004  159.320007  6626300.0   \n",
       "2021-12-23  160.919998  159.440002  159.500000  160.100006  5640900.0   \n",
       "2021-12-27  161.990005  160.610001  160.669998  161.970001  4354404.0   \n",
       "\n",
       "             Adj Close  \n",
       "Date                    \n",
       "1995-01-03    8.014161  \n",
       "1995-01-04    7.949919  \n",
       "1995-01-05    7.837494  \n",
       "1995-01-06    7.853556  \n",
       "1995-01-09    7.821431  \n",
       "...                ...  \n",
       "2021-12-20  157.860001  \n",
       "2021-12-21  157.759995  \n",
       "2021-12-22  159.320007  \n",
       "2021-12-23  160.100006  \n",
       "2021-12-27  161.970001  \n",
       "\n",
       "[6795 rows x 6 columns]"
      ]
     },
     "execution_count": 19,
     "metadata": {},
     "output_type": "execute_result"
    }
   ],
   "source": [
    "from pandas_datareader import data as wb\n",
    "\n",
    "PG = wb.DataReader('PG', data_source='yahoo', start='1995-1-1')\n",
    "\n",
    "PG"
   ]
  },
  {
   "cell_type": "code",
   "execution_count": 20,
   "id": "7baa014e-0b15-4b90-8da6-d8e641706c1a",
   "metadata": {},
   "outputs": [
    {
     "name": "stdout",
     "output_type": "stream",
     "text": [
      "<class 'pandas.core.frame.DataFrame'>\n",
      "DatetimeIndex: 6795 entries, 1995-01-03 to 2021-12-27\n",
      "Data columns (total 6 columns):\n",
      " #   Column     Non-Null Count  Dtype  \n",
      "---  ------     --------------  -----  \n",
      " 0   High       6795 non-null   float64\n",
      " 1   Low        6795 non-null   float64\n",
      " 2   Open       6795 non-null   float64\n",
      " 3   Close      6795 non-null   float64\n",
      " 4   Volume     6795 non-null   float64\n",
      " 5   Adj Close  6795 non-null   float64\n",
      "dtypes: float64(6)\n",
      "memory usage: 371.6 KB\n"
     ]
    }
   ],
   "source": [
    "PG.info()"
   ]
  },
  {
   "cell_type": "code",
   "execution_count": 23,
   "id": "998b6729-075e-4cf2-9d73-9659dd1dff92",
   "metadata": {},
   "outputs": [
    {
     "data": {
      "text/html": [
       "<div>\n",
       "<style scoped>\n",
       "    .dataframe tbody tr th:only-of-type {\n",
       "        vertical-align: middle;\n",
       "    }\n",
       "\n",
       "    .dataframe tbody tr th {\n",
       "        vertical-align: top;\n",
       "    }\n",
       "\n",
       "    .dataframe thead th {\n",
       "        text-align: right;\n",
       "    }\n",
       "</style>\n",
       "<table border=\"1\" class=\"dataframe\">\n",
       "  <thead>\n",
       "    <tr style=\"text-align: right;\">\n",
       "      <th></th>\n",
       "      <th>High</th>\n",
       "      <th>Low</th>\n",
       "      <th>Open</th>\n",
       "      <th>Close</th>\n",
       "      <th>Volume</th>\n",
       "      <th>Adj Close</th>\n",
       "    </tr>\n",
       "    <tr>\n",
       "      <th>Date</th>\n",
       "      <th></th>\n",
       "      <th></th>\n",
       "      <th></th>\n",
       "      <th></th>\n",
       "      <th></th>\n",
       "      <th></th>\n",
       "    </tr>\n",
       "  </thead>\n",
       "  <tbody>\n",
       "    <tr>\n",
       "      <th>2021-12-20</th>\n",
       "      <td>158.460007</td>\n",
       "      <td>156.570007</td>\n",
       "      <td>156.600006</td>\n",
       "      <td>157.860001</td>\n",
       "      <td>9202600.0</td>\n",
       "      <td>157.860001</td>\n",
       "    </tr>\n",
       "    <tr>\n",
       "      <th>2021-12-21</th>\n",
       "      <td>158.149994</td>\n",
       "      <td>156.789993</td>\n",
       "      <td>157.649994</td>\n",
       "      <td>157.759995</td>\n",
       "      <td>6946000.0</td>\n",
       "      <td>157.759995</td>\n",
       "    </tr>\n",
       "    <tr>\n",
       "      <th>2021-12-22</th>\n",
       "      <td>159.580002</td>\n",
       "      <td>157.270004</td>\n",
       "      <td>157.770004</td>\n",
       "      <td>159.320007</td>\n",
       "      <td>6626300.0</td>\n",
       "      <td>159.320007</td>\n",
       "    </tr>\n",
       "    <tr>\n",
       "      <th>2021-12-23</th>\n",
       "      <td>160.919998</td>\n",
       "      <td>159.440002</td>\n",
       "      <td>159.500000</td>\n",
       "      <td>160.100006</td>\n",
       "      <td>5640900.0</td>\n",
       "      <td>160.100006</td>\n",
       "    </tr>\n",
       "    <tr>\n",
       "      <th>2021-12-27</th>\n",
       "      <td>161.990005</td>\n",
       "      <td>160.610001</td>\n",
       "      <td>160.669998</td>\n",
       "      <td>161.970001</td>\n",
       "      <td>4354404.0</td>\n",
       "      <td>161.970001</td>\n",
       "    </tr>\n",
       "  </tbody>\n",
       "</table>\n",
       "</div>"
      ],
      "text/plain": [
       "                  High         Low        Open       Close     Volume  \\\n",
       "Date                                                                    \n",
       "2021-12-20  158.460007  156.570007  156.600006  157.860001  9202600.0   \n",
       "2021-12-21  158.149994  156.789993  157.649994  157.759995  6946000.0   \n",
       "2021-12-22  159.580002  157.270004  157.770004  159.320007  6626300.0   \n",
       "2021-12-23  160.919998  159.440002  159.500000  160.100006  5640900.0   \n",
       "2021-12-27  161.990005  160.610001  160.669998  161.970001  4354404.0   \n",
       "\n",
       "             Adj Close  \n",
       "Date                    \n",
       "2021-12-20  157.860001  \n",
       "2021-12-21  157.759995  \n",
       "2021-12-22  159.320007  \n",
       "2021-12-23  160.100006  \n",
       "2021-12-27  161.970001  "
      ]
     },
     "execution_count": 23,
     "metadata": {},
     "output_type": "execute_result"
    }
   ],
   "source": [
    "PG.tail(5)"
   ]
  },
  {
   "cell_type": "code",
   "execution_count": null,
   "id": "cf4f7f96-d951-4a25-b2d9-dc7b8ac07a8e",
   "metadata": {},
   "outputs": [],
   "source": []
  }
 ],
 "metadata": {
  "kernelspec": {
   "display_name": "Conda",
   "language": "python",
   "name": "ex"
  },
  "language_info": {
   "codemirror_mode": {
    "name": "ipython",
    "version": 3
   },
   "file_extension": ".py",
   "mimetype": "text/x-python",
   "name": "python",
   "nbconvert_exporter": "python",
   "pygments_lexer": "ipython3",
   "version": "3.9.5"
  }
 },
 "nbformat": 4,
 "nbformat_minor": 5
}
