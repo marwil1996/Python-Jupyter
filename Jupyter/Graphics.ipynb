{
 "cells": [
  {
   "cell_type": "markdown",
   "id": "6fb056ea",
   "metadata": {},
   "source": [
    "One feature of iPython is being able to visualize data and show it in a more user friendly way"
   ]
  },
  {
   "cell_type": "code",
   "execution_count": 1,
   "id": "7791dd32",
   "metadata": {},
   "outputs": [
    {
     "data": {
      "text/html": [
       "<div>\n",
       "<style scoped>\n",
       "    .dataframe tbody tr th:only-of-type {\n",
       "        vertical-align: middle;\n",
       "    }\n",
       "\n",
       "    .dataframe tbody tr th {\n",
       "        vertical-align: top;\n",
       "    }\n",
       "\n",
       "    .dataframe thead th {\n",
       "        text-align: right;\n",
       "    }\n",
       "</style>\n",
       "<table border=\"1\" class=\"dataframe\">\n",
       "  <thead>\n",
       "    <tr style=\"text-align: right;\">\n",
       "      <th></th>\n",
       "      <th>Name</th>\n",
       "      <th>Stadium Capacity</th>\n",
       "      <th>Titles</th>\n",
       "    </tr>\n",
       "  </thead>\n",
       "  <tbody>\n",
       "    <tr>\n",
       "      <th>0</th>\n",
       "      <td>Giants</td>\n",
       "      <td>82500</td>\n",
       "      <td>4</td>\n",
       "    </tr>\n",
       "    <tr>\n",
       "      <th>1</th>\n",
       "      <td>Patriots</td>\n",
       "      <td>74000</td>\n",
       "      <td>7</td>\n",
       "    </tr>\n",
       "    <tr>\n",
       "      <th>2</th>\n",
       "      <td>Seahawks</td>\n",
       "      <td>68000</td>\n",
       "      <td>1</td>\n",
       "    </tr>\n",
       "    <tr>\n",
       "      <th>3</th>\n",
       "      <td>Bears</td>\n",
       "      <td>78500</td>\n",
       "      <td>3</td>\n",
       "    </tr>\n",
       "    <tr>\n",
       "      <th>4</th>\n",
       "      <td>49ers</td>\n",
       "      <td>90000</td>\n",
       "      <td>2</td>\n",
       "    </tr>\n",
       "  </tbody>\n",
       "</table>\n",
       "</div>"
      ],
      "text/plain": [
       "       Name  Stadium Capacity  Titles\n",
       "0    Giants             82500       4\n",
       "1  Patriots             74000       7\n",
       "2  Seahawks             68000       1\n",
       "3     Bears             78500       3\n",
       "4     49ers             90000       2"
      ]
     },
     "execution_count": 1,
     "metadata": {},
     "output_type": "execute_result"
    }
   ],
   "source": [
    "import pandas as pd\n",
    "d = {'Name': ['Giants', 'Patriots', 'Seahawks', 'Bears', '49ers'], 'Stadium Capacity': [82500, 74000, 68000, 78500, 90000], 'Titles': [4, 7, 1, 3, 2]}\n",
    "df = pd.DataFrame(d)\n",
    "df.head()"
   ]
  },
  {
   "cell_type": "markdown",
   "id": "03341488",
   "metadata": {},
   "source": [
    "Plot the data above"
   ]
  },
  {
   "cell_type": "code",
   "execution_count": 2,
   "id": "4a56169f",
   "metadata": {},
   "outputs": [
    {
     "data": {
      "text/plain": [
       "Text(0, 0.5, 'Titles')"
      ]
     },
     "execution_count": 2,
     "metadata": {},
     "output_type": "execute_result"
    },
    {
     "data": {
      "image/png": "[encoded data removed]",
      "text/plain": [
       "<Figure size 432x288 with 1 Axes>"
      ]
     },
     "metadata": {
      "needs_background": "light"
     },
     "output_type": "display_data"
    }
   ],
   "source": [
    "%matplotlib inline\n",
    "import matplotlib.pyplot as plt\n",
    "plt.scatter(d['Stadium Capacity'],d[\"Titles\"])\n",
    "plt.title('Titles vs Stadium Capacity')\n",
    "plt.xlabel('Stadium Capacity')\n",
    "plt.ylabel('Titles')"
   ]
  },
  {
   "cell_type": "markdown",
   "id": "c014aa89",
   "metadata": {},
   "source": [
    "Remember if you restarted a notebook to run earlier cells again that most likely contain variables you need further down"
   ]
  },
  {
   "cell_type": "markdown",
   "id": "0a8eeba2",
   "metadata": {},
   "source": [
    "More advanced visualization options like histograms"
   ]
  },
  {
   "cell_type": "code",
   "execution_count": 3,
   "id": "3a39cbe9",
   "metadata": {},
   "outputs": [
    {
     "data": {
      "image/png": "[encoded data removed]",
      "text/plain": [
       "<Figure size 432x288 with 1 Axes>"
      ]
     },
     "metadata": {
      "needs_background": "light"
     },
     "output_type": "display_data"
    }
   ],
   "source": [
    "import numpy as np\n",
    "rng = np.random.RandomState(10) #determinstic random data\n",
    "a = np.hstack((rng.normal(size=1000),\n",
    "              rng.normal(loc=5, scale=2, size=1000)))\n",
    "plt.hist(a, bins='auto')\n",
    "plt.title(\"Histogram random data example\")\n",
    "plt.show()"
   ]
  },
  {
   "cell_type": "markdown",
   "id": "502e1c2c",
   "metadata": {},
   "source": [
    "Plotting code"
   ]
  },
  {
   "cell_type": "code",
   "execution_count": 4,
   "id": "5bdc3574",
   "metadata": {},
   "outputs": [
    {
     "data": {
      "image/png": "[encoded data removed]",
      "text/plain": [
       "<Figure size 432x288 with 1 Axes>"
      ]
     },
     "metadata": {
      "needs_background": "light"
     },
     "output_type": "display_data"
    }
   ],
   "source": [
    "plt.bar(d['Stadium Capacity'], d['Titles'], linewidth=5, tick_label=d['Name'])\n",
    "plt.title(\"Titles vs Stadium Capacity\")\n",
    "plt.xlabel(\"Stadium Capacity\")\n",
    "plt.ylabel(\"Titles\")\n",
    "plt.show()"
   ]
  },
  {
   "cell_type": "markdown",
   "id": "c53bf541",
   "metadata": {},
   "source": [
    "Get table output but with no bars, don't know why"
   ]
  },
  {
   "cell_type": "code",
   "execution_count": null,
   "id": "c3c1fd39",
   "metadata": {},
   "outputs": [],
   "source": []
  }
 ],
 "metadata": {
  "kernelspec": {
   "display_name": "Conda",
   "language": "python",
   "name": "ex"
  },
  "language_info": {
   "codemirror_mode": {
    "name": "ipython",
    "version": 3
   },
   "file_extension": ".py",
   "mimetype": "text/x-python",
   "name": "python",
   "nbconvert_exporter": "python",
   "pygments_lexer": "ipython3",
   "version": "3.9.5"
  }
 },
 "nbformat": 4,
 "nbformat_minor": 5
}
