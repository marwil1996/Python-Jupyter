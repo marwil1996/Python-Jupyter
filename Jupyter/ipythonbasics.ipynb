{
 "cells": [
  {
   "cell_type": "code",
   "execution_count": 1,
   "id": "38a52aaf",
   "metadata": {},
   "outputs": [],
   "source": [
    "#def save_fig(fig_id, tight_layout=True):\n",
    "#    path = os.path.join(PROJECT_ROOT_DIR, \"images\", CHAPTER_ID, fig_id + \".png\")\n",
    "#    print(\"Saving figure\", fig_id)\n",
    "#    if tight_layout:\n",
    "#        plt.tight_layout()\n",
    "#    plt.savefig(path, format='png', dpi=300)"
   ]
  },
  {
   "cell_type": "code",
   "execution_count": 2,
   "id": "0e1552d1",
   "metadata": {},
   "outputs": [
    {
     "name": "stdout",
     "output_type": "stream",
     "text": [
      "111\n",
      "161\n",
      "61\n",
      "5550\n",
      "2.22\n"
     ]
    }
   ],
   "source": [
    "x = 53 + 58\n",
    "print(x)\n",
    "y = 42 + 8\n",
    "print(x + y)\n",
    "print(x - y)\n",
    "print(x * y)\n",
    "print(x / y)"
   ]
  },
  {
   "cell_type": "code",
   "execution_count": 3,
   "id": "8eb8ddb2",
   "metadata": {},
   "outputs": [
    {
     "data": {
      "text/plain": [
       "(978, -872, 49025, 0.057297297297297295)"
      ]
     },
     "execution_count": 3,
     "metadata": {},
     "output_type": "execute_result"
    }
   ],
   "source": [
    "def calc(x,y):\n",
    "    add = x + y\n",
    "    sub = x - y\n",
    "    mult = x * y\n",
    "    div = x / y\n",
    "    return(add, sub, mult, div)\n",
    "\n",
    "\n",
    "calc(8,4)\n",
    "calc(7,5)\n",
    "calc(53, 925)"
   ]
  },
  {
   "cell_type": "markdown",
   "id": "e44eb0f5",
   "metadata": {},
   "source": [
    "Can run code between the cells"
   ]
  },
  {
   "cell_type": "code",
   "execution_count": 4,
   "id": "8a2e7710",
   "metadata": {},
   "outputs": [
    {
     "data": {
      "text/plain": [
       "(12, 6, 27, 3.0)"
      ]
     },
     "execution_count": 4,
     "metadata": {},
     "output_type": "execute_result"
    }
   ],
   "source": [
    "calc(9,3)"
   ]
  },
  {
   "cell_type": "code",
   "execution_count": 5,
   "id": "f24cd1e0",
   "metadata": {},
   "outputs": [],
   "source": [
    "def divide(x,y):\n",
    "    if y:\n",
    "        return x/y\n",
    "    else:\n",
    "        return \"Can't divide by zero\""
   ]
  },
  {
   "cell_type": "markdown",
   "id": "5e844904",
   "metadata": {},
   "source": [
    "with this divide function you have to set variables first"
   ]
  },
  {
   "cell_type": "code",
   "execution_count": 6,
   "id": "e5860eed",
   "metadata": {},
   "outputs": [
    {
     "data": {
      "text/plain": [
       "3.0"
      ]
     },
     "execution_count": 6,
     "metadata": {},
     "output_type": "execute_result"
    }
   ],
   "source": [
    "a = 9\n",
    "b = 3\n",
    "divide(a,b)"
   ]
  },
  {
   "cell_type": "code",
   "execution_count": 7,
   "id": "b4ae7573",
   "metadata": {},
   "outputs": [
    {
     "data": {
      "text/plain": [
       "\"Can't divide by zero\""
      ]
     },
     "execution_count": 7,
     "metadata": {},
     "output_type": "execute_result"
    }
   ],
   "source": [
    "c = 5\n",
    "d = 0\n",
    "divide(c,d)"
   ]
  },
  {
   "cell_type": "markdown",
   "id": "8dc03c1a",
   "metadata": {},
   "source": [
    "More complex functions"
   ]
  },
  {
   "cell_type": "code",
   "execution_count": 8,
   "id": "83fa5796",
   "metadata": {},
   "outputs": [
    {
     "name": "stdout",
     "output_type": "stream",
     "text": [
      "Wall time: 0 ns\n"
     ]
    }
   ],
   "source": [
    "%%time\n",
    "def exponent(x,y):\n",
    "    return(x**y)\n",
    "\n",
    "def mean_value(x,y):\n",
    "    return(x+y)/2\n"
   ]
  },
  {
   "cell_type": "markdown",
   "id": "79d6f3de",
   "metadata": {},
   "source": [
    "Clicking restart kernel and re-run notebook solved issue. only helped exponent function"
   ]
  },
  {
   "cell_type": "code",
   "execution_count": 9,
   "id": "0a2238c5",
   "metadata": {},
   "outputs": [
    {
     "data": {
      "text/plain": [
       "256"
      ]
     },
     "execution_count": 9,
     "metadata": {},
     "output_type": "execute_result"
    }
   ],
   "source": [
    "exponent(4,4)"
   ]
  },
  {
   "cell_type": "code",
   "execution_count": 10,
   "id": "60b63038",
   "metadata": {},
   "outputs": [
    {
     "name": "stdout",
     "output_type": "stream",
     "text": [
      "Wall time: 0 ns\n"
     ]
    },
    {
     "data": {
      "text/plain": [
       "40.0"
      ]
     },
     "execution_count": 10,
     "metadata": {},
     "output_type": "execute_result"
    }
   ],
   "source": [
    "%%time\n",
    "x = 40\n",
    "y = 40\n",
    "mean_value(x,y)"
   ]
  },
  {
   "cell_type": "code",
   "execution_count": 11,
   "id": "6c930a5a",
   "metadata": {},
   "outputs": [
    {
     "name": "stdout",
     "output_type": "stream",
     "text": [
      "Wall time: 0 ns\n"
     ]
    },
    {
     "data": {
      "text/plain": [
       "100.0"
      ]
     },
     "execution_count": 11,
     "metadata": {},
     "output_type": "execute_result"
    }
   ],
   "source": [
    "%%time\n",
    "x = 150\n",
    "y = 50\n",
    "mean_value(x,y)"
   ]
  },
  {
   "cell_type": "code",
   "execution_count": 12,
   "id": "a10fc046",
   "metadata": {},
   "outputs": [
    {
     "data": {
      "text/plain": [
       "120.0"
      ]
     },
     "execution_count": 12,
     "metadata": {},
     "output_type": "execute_result"
    }
   ],
   "source": [
    "mean_value(200,40)"
   ]
  },
  {
   "cell_type": "code",
   "execution_count": 22,
   "id": "d5ca3622",
   "metadata": {
    "scrolled": true
   },
   "outputs": [],
   "source": [
    "def find_greatest_divisor(x,y):\n",
    "    greatest_divisor = 1\n",
    "    for i in range(1, min(x,y)+1):\n",
    "        if not x%i and not y%i:\n",
    "            greatest_divisor = i\n",
    "    return greatest_divisor"
   ]
  },
  {
   "cell_type": "code",
   "execution_count": 25,
   "id": "5020ba97",
   "metadata": {},
   "outputs": [
    {
     "data": {
      "text/plain": [
       "12"
      ]
     },
     "execution_count": 25,
     "metadata": {},
     "output_type": "execute_result"
    }
   ],
   "source": [
    "find_greatest_divisor(12,24)"
   ]
  },
  {
   "cell_type": "code",
   "execution_count": null,
   "id": "b1f2beb5",
   "metadata": {},
   "outputs": [],
   "source": [
    "mean_value(400,240)"
   ]
  },
  {
   "cell_type": "markdown",
   "id": "3612b46c",
   "metadata": {},
   "source": [
    "Using %%time before calling mean_value function made that work. Still problem with divisor function"
   ]
  },
  {
   "cell_type": "markdown",
   "id": "2d967beb",
   "metadata": {},
   "source": [
    "Was stupid and forgot(x,y) after function name. Also good idea to run/execute the cell with function before actually calling it"
   ]
  },
  {
   "cell_type": "code",
   "execution_count": 26,
   "id": "7dad9467",
   "metadata": {},
   "outputs": [],
   "source": [
    "def find_least_multiple(x,y):\n",
    "    return x*y/find_greatest_divisor(x,y)\n"
   ]
  },
  {
   "cell_type": "code",
   "execution_count": 27,
   "id": "5935a597",
   "metadata": {},
   "outputs": [],
   "source": [
    "def find_least_multiple2(x,y):\n",
    "    least_multiple = min(x,y)\n",
    "    for i in range(least_multiple, x*y+1):\n",
    "        if not i%x and not i%y:\n",
    "            return i"
   ]
  },
  {
   "cell_type": "code",
   "execution_count": 28,
   "id": "69b3b7cc",
   "metadata": {},
   "outputs": [
    {
     "data": {
      "text/plain": [
       "600.0"
      ]
     },
     "execution_count": 28,
     "metadata": {},
     "output_type": "execute_result"
    }
   ],
   "source": [
    "find_least_multiple(120,100)"
   ]
  },
  {
   "cell_type": "code",
   "execution_count": 29,
   "id": "9baad3c2",
   "metadata": {},
   "outputs": [
    {
     "data": {
      "text/plain": [
       "150"
      ]
     },
     "execution_count": 29,
     "metadata": {},
     "output_type": "execute_result"
    }
   ],
   "source": [
    "find_least_multiple2(50,30)"
   ]
  },
  {
   "cell_type": "code",
   "execution_count": null,
   "id": "338bbaf7",
   "metadata": {},
   "outputs": [],
   "source": []
  }
 ],
 "metadata": {
  "kernelspec": {
   "display_name": "Python 3 (ipykernel)",
   "language": "python",
   "name": "python3"
  },
  "language_info": {
   "codemirror_mode": {
    "name": "ipython",
    "version": 3
   },
   "file_extension": ".py",
   "mimetype": "text/x-python",
   "name": "python",
   "nbconvert_exporter": "python",
   "pygments_lexer": "ipython3",
   "version": "3.7.9"
  }
 },
 "nbformat": 4,
 "nbformat_minor": 5
}
