{
 "cells": [
  {
   "cell_type": "code",
   "execution_count": 2,
   "id": "de0e21de",
   "metadata": {},
   "outputs": [
    {
     "name": "stdout",
     "output_type": "stream",
     "text": [
      "Random number: 0.17494735169820863\n"
     ]
    }
   ],
   "source": [
    "import scipy as sp\n",
    "x = sp.random.random()\n",
    "print(\"Random number:\", x)"
   ]
  },
  {
   "cell_type": "markdown",
   "id": "a1e68f2b",
   "metadata": {},
   "source": [
    "Can also do this by saving as .py file and running in Git Bash but I prefer to do it here"
   ]
  },
  {
   "cell_type": "code",
   "execution_count": 3,
   "id": "fbddc1f5",
   "metadata": {},
   "outputs": [
    {
     "name": "stdout",
     "output_type": "stream",
     "text": [
      "Number square root: 0.41826708177695343\n"
     ]
    },
    {
     "name": "stderr",
     "output_type": "stream",
     "text": [
      "C:\\Users\\CUSTOM~1\\AppData\\Local\\Temp/ipykernel_15252/722980297.py:1: DeprecationWarning: scipy.sqrt is deprecated and will be removed in SciPy 2.0.0, use numpy.lib.scimath.sqrt instead\n",
      "  x_square_root = sp.sqrt(x)\n"
     ]
    }
   ],
   "source": [
    "x_square_root = sp.sqrt(x)\n",
    "print(\"Number square root:\", x_square_root)"
   ]
  },
  {
   "cell_type": "code",
   "execution_count": 4,
   "id": "6fa9f6c9",
   "metadata": {},
   "outputs": [
    {
     "name": "stdout",
     "output_type": "stream",
     "text": [
      "Random matrix: [0.73172948 0.76875052 0.38297644]\n"
     ]
    }
   ],
   "source": [
    "matrix = sp.random.random(3)\n",
    "print(\"Random matrix:\", matrix)"
   ]
  },
  {
   "cell_type": "code",
   "execution_count": 5,
   "id": "e8c00c66",
   "metadata": {},
   "outputs": [
    {
     "name": "stdout",
     "output_type": "stream",
     "text": [
      "New matrix: [0.73172948 0.76875052 0.38297644 0.65681876 0.90488652]\n"
     ]
    },
    {
     "name": "stderr",
     "output_type": "stream",
     "text": [
      "C:\\Users\\CUSTOM~1\\AppData\\Local\\Temp/ipykernel_15252/1416585888.py:1: DeprecationWarning: scipy.append is deprecated and will be removed in SciPy 2.0.0, use numpy.append instead\n",
      "  matrix = sp.append(matrix, sp.random.random(2))\n"
     ]
    }
   ],
   "source": [
    "matrix = sp.append(matrix, sp.random.random(2))\n",
    "print(\"New matrix:\", matrix)"
   ]
  },
  {
   "cell_type": "code",
   "execution_count": 6,
   "id": "a1b17c1d",
   "metadata": {},
   "outputs": [
    {
     "name": "stdout",
     "output_type": "stream",
     "text": [
      "1 + 2 = 3\n"
     ]
    }
   ],
   "source": [
    "def add(x,y):\n",
    "    return x + y\n",
    "print(\"1 + 2 =\", add(1,2))"
   ]
  },
  {
   "cell_type": "code",
   "execution_count": 7,
   "id": "96dab2f1",
   "metadata": {},
   "outputs": [
    {
     "name": "stdout",
     "output_type": "stream",
     "text": [
      "20 - 5 = 15\n"
     ]
    }
   ],
   "source": [
    "def subtract(x,y):\n",
    "    return x - y\n",
    "print(\"20 - 5 =\", subtract(20,5))"
   ]
  },
  {
   "cell_type": "code",
   "execution_count": 8,
   "id": "58138ac5",
   "metadata": {},
   "outputs": [
    {
     "name": "stdout",
     "output_type": "stream",
     "text": [
      "7 * 12 = 84\n"
     ]
    }
   ],
   "source": [
    "def mult(x,y):\n",
    "    return x * y\n",
    "print(\"7 * 12 =\", mult(7,12))"
   ]
  },
  {
   "cell_type": "code",
   "execution_count": 11,
   "id": "c5851298",
   "metadata": {},
   "outputs": [
    {
     "name": "stdout",
     "output_type": "stream",
     "text": [
      "144 / 6 = 24.0\n",
      "33 / 0 = Can't dvide by zero\n"
     ]
    }
   ],
   "source": [
    "def div(x,y):\n",
    "    if y:\n",
    "        return x / y\n",
    "    else:\n",
    "        return \"Can't dvide by zero\"\n",
    "print(\"144 / 6 =\", div(144,6))\n",
    "print(\"33 / 0 =\", div(33,0))"
   ]
  },
  {
   "cell_type": "code",
   "execution_count": null,
   "id": "9fcd517b",
   "metadata": {},
   "outputs": [],
   "source": []
  }
 ],
 "metadata": {
  "kernelspec": {
   "display_name": "Python 3 (ipykernel)",
   "language": "python",
   "name": "python3"
  },
  "language_info": {
   "codemirror_mode": {
    "name": "ipython",
    "version": 3
   },
   "file_extension": ".py",
   "mimetype": "text/x-python",
   "name": "python",
   "nbconvert_exporter": "python",
   "pygments_lexer": "ipython3",
   "version": "3.9.5"
  }
 },
 "nbformat": 4,
 "nbformat_minor": 5
}
