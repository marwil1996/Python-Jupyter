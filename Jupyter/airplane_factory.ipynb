{
 "cells": [
  {
   "cell_type": "markdown",
   "id": "08f47667",
   "metadata": {},
   "source": [
    "Example of airplane factory. Planes differ by type, color, and weight in metric tons "
   ]
  },
  {
   "cell_type": "code",
   "execution_count": 1,
   "id": "1ddeef1c",
   "metadata": {},
   "outputs": [],
   "source": [
    "class Airplane:\n",
    "    def __init__(self, Type, Weight, Color = None): #First time creating class and initializer, make sure to use two underscores\n",
    "        self.Type = Type\n",
    "        self.Weight = Weight\n",
    "        self.Color = Color"
   ]
  },
  {
   "cell_type": "markdown",
   "id": "87266494",
   "metadata": {},
   "source": [
    "Color set equal to none so property can be left unused"
   ]
  },
  {
   "cell_type": "code",
   "execution_count": 2,
   "id": "120c528a",
   "metadata": {},
   "outputs": [
    {
     "name": "stdout",
     "output_type": "stream",
     "text": [
      "['Jet', 'Glider', 'Propelled']\n"
     ]
    }
   ],
   "source": [
    "Airplane_types = [\"Jet\", \"Glider\", \"Propelled\"]\n",
    "print(Airplane_types)"
   ]
  },
  {
   "cell_type": "markdown",
   "id": "37d257a9",
   "metadata": {},
   "source": [
    "Create airplane class instances and list them"
   ]
  },
  {
   "cell_type": "code",
   "execution_count": 15,
   "id": "4fa6cfd0",
   "metadata": {},
   "outputs": [],
   "source": [
    "Airplanes = []\n",
    "Airplanes.append(Airplane(Airplane_types[0], 800, \"Blue\"))\n",
    "Airplanes.append(Airplane(Airplane_types[1], 400, \"Red\"))\n",
    "Airplanes.append(Airplane(Airplane_types[2], 600, \"Yellow\"))\n",
    "Airplanes.append(Airplane(Airplane_types[0], 300, \"Green\"))\n",
    "Airplanes.append(Airplane(Airplane_types[0], 250, \"Yellow\"))\n",
    "Airplanes.append(Airplane(Airplane_types[1], 100, \"Blue\"))\n",
    "Airplanes.append(Airplane(Airplane_types[2], 250, \"Yellow\"))\n",
    "Airplanes.append(Airplane(Airplane_types[2], 200, \"Red\"))\n",
    "Airplanes.append(Airplane(Airplane_types[0], 790, \"Blue\"))\n",
    "Airplanes.append(Airplane(Airplane_types[0], 1000, \"None\"))"
   ]
  },
  {
   "cell_type": "markdown",
   "id": "e2e4f9fa",
   "metadata": {},
   "source": [
    "Strings of code above add to the Airplanes array and update the Airplane class and Airplane_types within the class"
   ]
  },
  {
   "cell_type": "markdown",
   "id": "55c43728",
   "metadata": {},
   "source": [
    "Color of last airplane unknown. We can iterate through created airplanes to count # of red ones"
   ]
  },
  {
   "cell_type": "code",
   "execution_count": 16,
   "id": "deeba0e7",
   "metadata": {},
   "outputs": [
    {
     "name": "stdout",
     "output_type": "stream",
     "text": [
      "There are  2  red airplanes\n",
      "There are  3  blue airplanes\n"
     ]
    }
   ],
   "source": [
    "red_counter = 0\n",
    "for airplane_item in Airplanes:\n",
    "    if airplane_item.Color == 'Red':\n",
    "        red_counter += 1\n",
    "print('There are ', red_counter, ' red airplanes')\n",
    "\n",
    "blue_counter = 0\n",
    "for airplane_item in Airplanes:\n",
    "    if airplane_item.Color == 'Blue':\n",
    "        blue_counter += 1\n",
    "print(\"There are \", blue_counter, \" blue airplanes\")"
   ]
  },
  {
   "cell_type": "markdown",
   "id": "4c3f4692",
   "metadata": {},
   "source": [
    "Fool instructor thinks issue with him running code and getting error was class code not being executed. Actually because he left 's' off of Airplanes in his for loop lol"
   ]
  },
  {
   "cell_type": "markdown",
   "id": "5c6b41a3",
   "metadata": {},
   "source": [
    "Place code into a function to check how many planes of each color there is"
   ]
  },
  {
   "cell_type": "code",
   "execution_count": 19,
   "id": "68d66388",
   "metadata": {},
   "outputs": [],
   "source": [
    "def color_count(Airplanes_list, Color):\n",
    "    color_counter = 0\n",
    "    return_list = []\n",
    "    for airplane_item in Airplanes_list:\n",
    "        if airplane_item.Color == Color:\n",
    "            color_counter += 1\n",
    "            return_list.append([airplane_item.Type, airplane_item.Weight, airplane_item.Color])\n",
    "    if Color is None:\n",
    "        print(\"There are \", color_counter, \" airplanes with no color\")\n",
    "    else:\n",
    "        print(\"There are/is\", color_counter, \"Airplane(s) with no color\")\n",
    "    print(return_list)"
   ]
  },
  {
   "cell_type": "markdown",
   "id": "6301d5f9",
   "metadata": {},
   "source": [
    "Looks like I need to remove str(Color) for better output"
   ]
  },
  {
   "cell_type": "code",
   "execution_count": 20,
   "id": "9efd35cc",
   "metadata": {},
   "outputs": [
    {
     "name": "stdout",
     "output_type": "stream",
     "text": [
      "There are/is 2 Airplane(s) with no color\n",
      "[['Glider', 400, 'Red'], ['Propelled', 200, 'Red']]\n",
      "There are/is 3 Airplane(s) with no color\n",
      "[['Jet', 800, 'Blue'], ['Glider', 100, 'Blue'], ['Jet', 790, 'Blue']]\n",
      "There are/is 3 Airplane(s) with no color\n",
      "[['Propelled', 600, 'Yellow'], ['Jet', 250, 'Yellow'], ['Propelled', 250, 'Yellow']]\n",
      "There are/is 1 Airplane(s) with no color\n",
      "[['Jet', 1000, 'None']]\n"
     ]
    }
   ],
   "source": [
    "for Color in [\"Red\", \"Blue\", \"Yellow\", \"None\"]:\n",
    "    color_count(Airplanes, Color)"
   ]
  },
  {
   "cell_type": "markdown",
   "id": "078a03cd",
   "metadata": {},
   "source": [
    "Similar function for plane weights"
   ]
  },
  {
   "cell_type": "code",
   "execution_count": 22,
   "id": "ea277b30",
   "metadata": {},
   "outputs": [],
   "source": [
    "def weight_count(Airplanes_list, Weight):\n",
    "    weight_counter = 0\n",
    "    return_list = []\n",
    "    for airplane_item in Airplanes_list:\n",
    "        if airplane_item.Weight > Weight:\n",
    "            weight_counter += 1\n",
    "            return_list.append([airplane_item.Type, airplane_item.Weight, airplane_item.Color])\n",
    "    print(\"There are\", weight_counter, \"Airplanes that are heavier than\", str(Weight), \"metric tons\")\n",
    "    print(return_list)"
   ]
  },
  {
   "cell_type": "code",
   "execution_count": 23,
   "id": "e211aa4e",
   "metadata": {},
   "outputs": [
    {
     "name": "stdout",
     "output_type": "stream",
     "text": [
      "There are 10 Airplanes that are heavier than 0 metric tons\n",
      "[['Jet', 800, 'Blue'], ['Glider', 400, 'Red'], ['Propelled', 600, 'Yellow'], ['Jet', 300, 'Green'], ['Jet', 250, 'Yellow'], ['Glider', 100, 'Blue'], ['Propelled', 250, 'Yellow'], ['Propelled', 200, 'Red'], ['Jet', 790, 'Blue'], ['Jet', 1000, 'None']]\n",
      "There are 5 Airplanes that are heavier than 300 metric tons\n",
      "[['Jet', 800, 'Blue'], ['Glider', 400, 'Red'], ['Propelled', 600, 'Yellow'], ['Jet', 790, 'Blue'], ['Jet', 1000, 'None']]\n",
      "There are 4 Airplanes that are heavier than 500 metric tons\n",
      "[['Jet', 800, 'Blue'], ['Propelled', 600, 'Yellow'], ['Jet', 790, 'Blue'], ['Jet', 1000, 'None']]\n"
     ]
    }
   ],
   "source": [
    "for Weight in [0,300, 500]:\n",
    "    weight_count(Airplanes, Weight)"
   ]
  },
  {
   "cell_type": "code",
   "execution_count": null,
   "id": "d14a6145",
   "metadata": {},
   "outputs": [],
   "source": []
  }
 ],
 "metadata": {
  "kernelspec": {
   "display_name": "Python 3 (ipykernel)",
   "language": "python",
   "name": "python3"
  },
  "language_info": {
   "codemirror_mode": {
    "name": "ipython",
    "version": 3
   },
   "file_extension": ".py",
   "mimetype": "text/x-python",
   "name": "python",
   "nbconvert_exporter": "python",
   "pygments_lexer": "ipython3",
   "version": "3.7.9"
  }
 },
 "nbformat": 4,
 "nbformat_minor": 5
}
