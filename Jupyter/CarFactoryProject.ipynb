{
 "cells": [
  {
   "cell_type": "markdown",
   "id": "3c6e2cec",
   "metadata": {},
   "source": [
    "This project is an example of a car factory. They differ by parts: Body, Engine and # of doors"
   ]
  },
  {
   "cell_type": "markdown",
   "id": "900676a9",
   "metadata": {},
   "source": [
    "There are 5 body types: Small, Medium, Large, Sports and Luxury"
   ]
  },
  {
   "cell_type": "markdown",
   "id": "eec5df8d",
   "metadata": {},
   "source": [
    "There are 3 cars with 6 cylinder engines"
   ]
  },
  {
   "cell_type": "code",
   "execution_count": 2,
   "id": "178ffcda",
   "metadata": {},
   "outputs": [
    {
     "name": "stdout",
     "output_type": "stream",
     "text": [
      "['Small', 'Medium', 'Large', 'Sports', 'Luxury']\n"
     ]
    }
   ],
   "source": [
    "class Car():\n",
    "    def __init__(self, Body, Engine, Doors_Number):\n",
    "        self.Body = Body\n",
    "        self.Engine = Engine\n",
    "        self.Doors_Number = Doors_Number\n",
    "\n",
    "Body_types = [\"Small\", \"Medium\", \"Large\", \"Sports\", \"Luxury\"]\n",
    "print(Body_types)"
   ]
  },
  {
   "cell_type": "markdown",
   "id": "21610b21",
   "metadata": {},
   "source": [
    "Each engine is different type with its own # of cylinders"
   ]
  },
  {
   "cell_type": "code",
   "execution_count": 8,
   "id": "3cb7da1e",
   "metadata": {},
   "outputs": [],
   "source": [
    "class Engine():\n",
    "    def __init__(self, Type, Cylinder_Number):\n",
    "        self.Type = Type\n",
    "        self.Cylinder_Number = Cylinder_Number"
   ]
  },
  {
   "cell_type": "markdown",
   "id": "ad28d53c",
   "metadata": {},
   "source": [
    "Engine instances"
   ]
  },
  {
   "cell_type": "code",
   "execution_count": 13,
   "id": "e11bacad",
   "metadata": {},
   "outputs": [],
   "source": [
    "Engines = []\n",
    "Engines.append(Engine(\"External combustion\", 6))\n",
    "Engines.append(Engine(\"Internal combustion\", 4))\n",
    "Engines.append(Engine(\"Internal combustion\", 6))\n",
    "Engines.append(Engine(\"External combustion\", 12))\n",
    "Engines.append(Engine(\"Internal combustion\", 6))\n",
    "Engines.append(Engine(\"External combustion\", 8))\n",
    "Engines.append(Engine(\"External combustion\", 4))\n",
    "Engines.append(Engine(\"Internal combustion\", 8))\n",
    "Engines.append(Engine(\"External combustion\", 6))\n",
    "Engines.append(Engine(\"Internal combustion\", 12))\n",
    "Engines.append(Engine(\"Internal combustion\", 6))\n",
    "Engines.append(Engine(\"External combustion\", 12))\n",
    "Engines.append(Engine(\"External combustion\", 4))"
   ]
  },
  {
   "cell_type": "markdown",
   "id": "6d86a4d8",
   "metadata": {},
   "source": [
    "Car class with created Engines"
   ]
  },
  {
   "cell_type": "code",
   "execution_count": 14,
   "id": "1925a9f5",
   "metadata": {},
   "outputs": [],
   "source": [
    "Cars = []\n",
    "for i in range (len(Engines)):\n",
    "    Cars.append(Car(Body_types[i%5], Engines[i], 3 + i%2))"
   ]
  },
  {
   "cell_type": "markdown",
   "id": "5ac382e2",
   "metadata": {},
   "source": [
    "Function that will list cars with n cylinders"
   ]
  },
  {
   "cell_type": "code",
   "execution_count": 17,
   "id": "82c23006",
   "metadata": {},
   "outputs": [],
   "source": [
    "def weight_count(Cars, Cylinder_Number):\n",
    "    cylinder_counter = 0\n",
    "    return_list = []\n",
    "    for car_item in Cars:\n",
    "        if car_item.Engine.Cylinder_Number == Cylinder_Number:\n",
    "            cylinder_counter += 1\n",
    "            return_list.append([car_item.Body, car_item.Engine.Type, str(car_item.Engine.Cylinder_Number) + \"Cylinders\", str(car_item.Doors_Number) + \"Doors\"])\n",
    "    print(\"There are\", cylinder_counter, \"cars that have an engine with\", str(Cylinder_Number), \"cylinders\")\n",
    "    print(return_list)"
   ]
  },
  {
   "cell_type": "markdown",
   "id": "effb2e34",
   "metadata": {},
   "source": [
    "fixed issue with cell above. changed return list.append to return_list.append"
   ]
  },
  {
   "cell_type": "markdown",
   "id": "a2940d83",
   "metadata": {},
   "source": [
    "List all cars with 6 cylinders"
   ]
  },
  {
   "cell_type": "code",
   "execution_count": 18,
   "id": "f78ebdbe",
   "metadata": {},
   "outputs": [
    {
     "name": "stdout",
     "output_type": "stream",
     "text": [
      "There are 5 cars that have an engine with 6 cylinders\n",
      "[['Small', 'External combustion', '6Cylinders', '3Doors'], ['Large', 'Internal combustion', '6Cylinders', '3Doors'], ['Luxury', 'Internal combustion', '6Cylinders', '3Doors'], ['Sports', 'External combustion', '6Cylinders', '3Doors'], ['Small', 'Internal combustion', '6Cylinders', '3Doors']]\n"
     ]
    }
   ],
   "source": [
    "weight_count(Cars, 6)"
   ]
  },
  {
   "cell_type": "code",
   "execution_count": 19,
   "id": "256e24bd",
   "metadata": {},
   "outputs": [
    {
     "name": "stdout",
     "output_type": "stream",
     "text": [
      "There are 3 cars that have an engine with 4 cylinders\n",
      "[['Medium', 'Internal combustion', '4Cylinders', '4Doors'], ['Medium', 'External combustion', '4Cylinders', '3Doors'], ['Large', 'External combustion', '4Cylinders', '3Doors']]\n"
     ]
    }
   ],
   "source": [
    "weight_count(Cars, 4)"
   ]
  },
  {
   "cell_type": "code",
   "execution_count": null,
   "id": "6d6fca8a",
   "metadata": {},
   "outputs": [],
   "source": []
  }
 ],
 "metadata": {
  "kernelspec": {
   "display_name": "Conda",
   "language": "python",
   "name": "ex"
  },
  "language_info": {
   "codemirror_mode": {
    "name": "ipython",
    "version": 3
   },
   "file_extension": ".py",
   "mimetype": "text/x-python",
   "name": "python",
   "nbconvert_exporter": "python",
   "pygments_lexer": "ipython3",
   "version": "3.9.5"
  }
 },
 "nbformat": 4,
 "nbformat_minor": 5
}
